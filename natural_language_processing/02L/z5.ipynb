{
 "cells": [
  {
   "cell_type": "code",
   "execution_count": 49,
   "metadata": {},
   "outputs": [
    {
     "name": "stdout",
     "output_type": "stream",
     "text": [
      "CPU times: user 1min 19s, sys: 1.28 s, total: 1min 20s\n",
      "Wall time: 1min 19s\n"
     ]
    }
   ],
   "source": [
    "%%time\n",
    "import re\n",
    "import numpy as np\n",
    "import os\n",
    "import collections\n",
    "from math import log\n",
    "import sys\n",
    "import heapq\n",
    "\n",
    "word2tag = dict()\n",
    "tag2word = dict()\n",
    "def stringNorm(sent, num=False):\n",
    "    regex = re.compile(f'[,\\.!?:;\\'{\"0-9\" if not num else \"\"}\\*\\-“…\\(\\)„”—»«–––=\\[\\]’]')\n",
    "    return regex.sub('',sent.lower())\n",
    "\n",
    "def bigrams2unigrams(bigrams):\n",
    "    return {w1: sum([float(bigrams[w1][w2]) for w2 in bigrams[w1]])/2 for w1 in bigrams}\n",
    "\n",
    "with open(\"../data/supertags.txt\") as tags:\n",
    "    for line in tags:\n",
    "        word, tag = stringNorm(line, num=True).split()\n",
    "        word2tag[word] = tag\n",
    "        if tag in tag2word:\n",
    "            tag2word[tag].append(word)\n",
    "        else:\n",
    "            tag2word[tag] = [word]\n",
    "            \n",
    "\n",
    "bigrams =  collections.defaultdict(lambda: collections.defaultdict(int))\n",
    "bigrams_rev = collections.defaultdict(lambda: collections.defaultdict(int))\n",
    "unigrams = collections.defaultdict(int)\n",
    "with open('../data/poleval_2grams.txt') as f:\n",
    "    for x in f:\n",
    "        num, w1, w2 = x.split()\n",
    "        if float(num) >= 5:\n",
    "            bigrams[w1][w2] = float(num)\n",
    "            bigrams_rev[w2][w1] = float(num)\n",
    "            unigrams[w1] += float(num) / 2\n",
    "            unigrams[w2] += float(num) / 2"
   ]
  },
  {
   "cell_type": "code",
   "execution_count": 122,
   "metadata": {},
   "outputs": [],
   "source": [
    "uniSum = sum((unigrams.values()))\n",
    "# print(uniSum)\n",
    "\n",
    "def PMI(w1, w2):\n",
    "    return np.log(\n",
    "        bigrams[w1][w2] * uniSum / \n",
    "        (unigrams[w1] * unigrams[w2]))\n",
    "     \n",
    "#     + sys.float_info.min)\n",
    "\n",
    "def sameTag(w1, w2):\n",
    "    if not (w1 in word2tag and w2 in word2tag):\n",
    "        return 0\n",
    "    if word2tag[w1] == word2tag[w2]:\n",
    "        return 50\n",
    "    return 10\n",
    "    \n",
    "        \n",
    "def wordValue(word, x): \n",
    "    return np.sum([\n",
    "        PMI(word, x), \n",
    "        sameTag(word,x),\n",
    "#         len(x),\n",
    "    ])\n"
   ]
  },
  {
   "cell_type": "code",
   "execution_count": 123,
   "metadata": {},
   "outputs": [],
   "source": [
    "def findSimilarWords(word, k):\n",
    "    return {x: wordValue(word,x)\n",
    "        for x in heapq.nlargest(\n",
    "            k, \n",
    "            bigrams[word], \n",
    "            key=lambda x: wordValue(word, x)\n",
    "        )\n",
    "    }"
   ]
  },
  {
   "cell_type": "code",
   "execution_count": 124,
   "metadata": {
    "scrolled": false
   },
   "outputs": [
    {
     "name": "stdout",
     "output_type": "stream",
     "text": [
      "kolej\n",
      "{'aglomeracyjna': 21.512572762615552,\n",
      " 'aglomeracyjną': 21.094607491743155,\n",
      " 'gondolowa': 21.377470277758988,\n",
      " 'jednoszynowa': 22.15066016599247,\n",
      " 'jednoszynową': 22.15066016599247,\n",
      " 'krzesełkowa': 21.958288273345012,\n",
      " 'transkontynentalna': 22.15066016599247,\n",
      " 'transsyberyjska': 21.745195057884303}\n",
      "\n",
      "uczelnia\n",
      "{'kształci': 18.842583196369056,\n",
      " 'kształcąca': 19.385854727042091,\n",
      " 'macierzysta': 18.947316870659904,\n",
      " 'niepaństwowa': 20.741058501091949,\n",
      " 'niepubliczna': 19.867327383636592,\n",
      " 'wypromowała': 19.626697855455703,\n",
      " 'zaplanowała': 20.20060107971959,\n",
      " 'łazarskiego': 19.311746754888368}\n",
      "\n",
      "grzyb\n",
      "{'atomowy': 19.87936709084363,\n",
      " 'candida': 19.020625147295043,\n",
      " 'jadalny': 21.939451752772626,\n",
      " 'kapeluszowy': 23.439465755091643,\n",
      " 'mikroskopijny': 22.714425210755742,\n",
      " 'nadrzewny': 19.80942680100064,\n",
      " 'niejadalny': 22.419105663323279,\n",
      " 'trujący': 20.702504210495015}\n",
      "\n",
      "ramię\n",
      "{'korby': 19.362247433195215,\n",
      " 'moskwy': 16.204794420953419,\n",
      " 'robota': 17.511799451177588,\n",
      " 'spiralne': 18.511005991176638,\n",
      " 'strzelca': 18.043806775032017,\n",
      " 'transeptu': 18.955719060765716,\n",
      " 'wycieraczki': 18.654765793686181,\n",
      " 'zbrojne': 18.057588432069235}\n",
      "\n",
      "gitara\n",
      "{'akustyczna': 21.212678897601023,\n",
      " 'basowa': 22.093097213976733,\n",
      " 'elektroakustyczna': 22.771473077216367,\n",
      " 'elektryczna': 19.492261097181675,\n",
      " 'hawajska': 21.455796283310431,\n",
      " 'klasyczna': 18.945305092821791,\n",
      " 'rytmiczna': 20.952314633800199,\n",
      " 'solowa': 20.34793537380466}\n",
      "\n"
     ]
    }
   ],
   "source": [
    "import pprint\n",
    "slowa = ['kolej', 'uczelnia', 'grzyb', 'ramię', 'gitara']\n",
    "nln = '\\n'\n",
    "for i in slowa:\n",
    "    print(i)\n",
    "    pprint.pprint(findSimilarWords(i, 8))\n",
    "    print()"
   ]
  },
  {
   "cell_type": "code",
   "execution_count": null,
   "metadata": {
    "collapsed": true
   },
   "outputs": [],
   "source": []
  },
  {
   "cell_type": "code",
   "execution_count": 44,
   "metadata": {},
   "outputs": [
    {
     "data": {
      "text/plain": [
       "0"
      ]
     },
     "execution_count": 44,
     "metadata": {},
     "output_type": "execute_result"
    }
   ],
   "source": [
    "5 * ('ased' == 'asd')"
   ]
  }
 ],
 "metadata": {
  "kernelspec": {
   "display_name": "Python 3",
   "language": "python",
   "name": "python3"
  },
  "language_info": {
   "codemirror_mode": {
    "name": "ipython",
    "version": 3
   },
   "file_extension": ".py",
   "mimetype": "text/x-python",
   "name": "python",
   "nbconvert_exporter": "python",
   "pygments_lexer": "ipython3",
   "version": "3.6.3"
  }
 },
 "nbformat": 4,
 "nbformat_minor": 2
}
