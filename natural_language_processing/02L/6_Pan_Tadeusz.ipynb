{
 "cells": [
  {
   "cell_type": "code",
   "execution_count": 5,
   "metadata": {
    "collapsed": true
   },
   "outputs": [],
   "source": [
    "import numpy as np\n",
    "import re\n",
    "import collections\n",
    "vowels = list('aeioóuyąę') + list('aeioóuyąę'.upper())\n",
    "compacted_vovels = ['i' + x for x in vowels if x != 'i']"
   ]
  },
  {
   "cell_type": "code",
   "execution_count": 6,
   "metadata": {
    "collapsed": true
   },
   "outputs": [],
   "source": [
    "def count_syllable(phrase, verose=False):\n",
    "    res = 0\n",
    "    for i, letter in enumerate(phrase):\n",
    "        if letter in vowels:\n",
    "            res += 1\n",
    "            if verose:\n",
    "                print(letter)\n",
    "        if phrase[i:i+2] in compacted_vovels:\n",
    "            res -= 1\n",
    "            if verose:\n",
    "                print(phrase[i:i+2])\n",
    "    return res\n",
    "def string_norm(sent, num=False):\n",
    "    regex = re.compile(f'[,\\.!?:;\\'{\"0-9\" if not num else \"\"}\\*\\-“…\\(\\)„”—»«–––=\\[\\]’]')\n",
    "    return regex.sub('',sent.lower())"
   ]
  },
  {
   "cell_type": "code",
   "execution_count": 7,
   "metadata": {},
   "outputs": [
    {
     "name": "stdout",
     "output_type": "stream",
     "text": [
      "CPU times: user 1min 58s, sys: 2.36 s, total: 2min\n",
      "Wall time: 1min 59s\n"
     ]
    }
   ],
   "source": [
    "%%time\n",
    "\n",
    "bigrams =  collections.defaultdict(lambda: collections.defaultdict(int))\n",
    "bigrams_rev = collections.defaultdict(lambda: collections.defaultdict(int))\n",
    "unigrams = collections.defaultdict(int)\n",
    "with open('../data/poleval_2grams.txt') as f:\n",
    "    for x in f:\n",
    "        num, w1, w2 = x.split()\n",
    "        if float(num) >= 5:\n",
    "            bigrams[w1][w2] = float(num)\n",
    "            bigrams_rev[w2][w1] = float(num)\n",
    "            unigrams[w1] += float(num) / 2\n",
    "            unigrams[w2] += float(num) / 2\n",
    "\n"
   ]
  },
  {
   "cell_type": "code",
   "execution_count": 8,
   "metadata": {
    "collapsed": true
   },
   "outputs": [],
   "source": [
    "with open('../data/supertags.txt') as f:\n",
    "    supertags = [tuple(x.split()) for x in f]\n",
    "    supertags = {k: v for (k,v) in supertags}\n",
    "    supertags_ID = collections.defaultdict(set) \n",
    "    for k,v in supertags.items():\n",
    "        supertags_ID[v].add(k)"
   ]
  },
  {
   "cell_type": "code",
   "execution_count": 9,
   "metadata": {
    "collapsed": true
   },
   "outputs": [],
   "source": [
    "with open('../data/pan-tadeusz.txt') as f:\n",
    "    pt = [string_norm(x).split() for x in f if  count_syllable(string_norm(x)) == 13]\n",
    "    \n",
    "acents = collections.Counter([\n",
    "    tuple([count_syllable(y) for y in x])\n",
    "    for x in pt\n",
    "])"
   ]
  },
  {
   "cell_type": "code",
   "execution_count": 10,
   "metadata": {
    "collapsed": true
   },
   "outputs": [],
   "source": [
    "def get_rym(w):\n",
    "    best = None\n",
    "    for i in range(len(w)):\n",
    "        if count_syllable(w[i:]) == 2:\n",
    "            best = w[i:]\n",
    "    return best\n",
    "\n",
    "def sample_verset():\n",
    "    try:\n",
    "        index = np.random.choice(np.arange(len(pt)))\n",
    "        rym = get_rym(pt[index][-1])\n",
    "        if get_rym(pt[index + 1][-1]) == rym:\n",
    "            return pt[index], pt[index + 1]\n",
    "        elif get_rym(pt[index - 1][-1]) == rym:\n",
    "            return pt[index], pt[index - 1]\n",
    "        return sample_verset()\n",
    "    except:\n",
    "        return sample_verset()\n",
    "    \n",
    "def get_acents(phrase):\n",
    "    return [count_syllable(x) for x in phrase]\n",
    "\n",
    "def get_ryhm_bigram(rym):\n",
    "    temp = {w1: {w2: cnt for w2, cnt in v.items() if rym in w2} for w1,v in bigrams.items() if rym in w1}\n",
    "    return temp\n",
    "\n"
   ]
  },
  {
   "cell_type": "code",
   "execution_count": 52,
   "metadata": {},
   "outputs": [
    {
     "name": "stdout",
     "output_type": "stream",
     "text": [
      "...\n",
      "a na głos dzwonka niby na wiatru powianie chylą się wszystkie głowy jak kłosy na łanie\n",
      "się na ruch koła również do rządu pytanie sądzą że wszystkie firmy jak środki na łanie\n"
     ]
    }
   ],
   "source": [
    "class EmptySample(Exception):\n",
    "    pass\n",
    "\n",
    "def sample(words_with_counters, verbose=False):\n",
    "    if len(words_with_counters) == 0:\n",
    "        raise EmptySample()\n",
    "    if verbose:\n",
    "        print('samled from:', len(words_with_counters))\n",
    "    words, cnt = zip(*words_with_counters.items())\n",
    "    propabilities = np.array(cnt) / np.sum(cnt)\n",
    "    return np.random.choice(words, p=propabilities)\n",
    "# print(sample(list({'a':1, 'b':2})))\n",
    "\n",
    "def f():\n",
    "    for i in range(10):\n",
    "        p1, p2 = sample_verset()\n",
    "        n1 = gen_phrase(p1[::-1])\n",
    "        if n1 is None:\n",
    "            continue\n",
    "        n2 = gen_phrase(p2[::-1])\n",
    "        if n2 is None:\n",
    "            continue\n",
    "        print()\n",
    "        print(' '.join(p1 + p2))\n",
    "        print(' '.join(n1[::-1] + n2[::-1]))\n",
    "        return\n",
    "def gen_phrase(phrase, rhymes=None):\n",
    "    print('.', end='')\n",
    "#     rhymes = \n",
    "#     np.random.seed(4)\n",
    "    for ii in range(10):\n",
    "        try:\n",
    "            rhyme = get_rym(phrase[0])\n",
    "            new_word = sample({\n",
    "                k:(v) for k,v in unigrams.items() \n",
    "                if k.endswith(rhyme)\n",
    "                if supertags.get(k) == supertags.get(phrase[0])\n",
    "                if count_syllable(k) == count_syllable(phrase[0])\n",
    "            }, False)\n",
    "            aviable_bigrams = bigrams_rev[new_word]\n",
    "            new_phrase = [new_word]\n",
    "\n",
    "            for i in range(1, len(phrase)):\n",
    "                word = phrase[i]\n",
    "#                 print(new_phrase)\n",
    "#                 print('words in bigrams_rev', len(bigrams_rev[new_word]))\n",
    "#                 if not (rhymes[i] is None):\n",
    "#                     print('TUTAJ' , word)\n",
    "                new_word = sample({\n",
    "                    k:v for k,v in bigrams_rev[new_word].items() \n",
    "                    if supertags.get(k) == supertags.get(word)\n",
    "                    if count_syllable(k) == count_syllable(word)\n",
    "                    \n",
    "                   \n",
    "                }, False)\n",
    "                new_phrase.append(new_word)\n",
    "                        \n",
    "        except EmptySample as e:\n",
    "            pass\n",
    "        if len(phrase) == len(new_phrase):\n",
    "                return new_phrase\n",
    "#         else:\n",
    "#             print(len(phrase), len(new_phrase))\n",
    "f()\n",
    "# mockup_phrase = sample_verset()\n",
    "# # p = mockup_phrase[0] + mockup_phrase[1]\n",
    "# gen_phrase(mockup_phrase[0])[::-1] + gen_phrase(mockup_phrase[1])[::-1]"
   ]
  },
  {
   "cell_type": "code",
   "execution_count": 12,
   "metadata": {
    "collapsed": true
   },
   "outputs": [],
   "source": []
  },
  {
   "cell_type": "code",
   "execution_count": 162,
   "metadata": {
    "collapsed": true
   },
   "outputs": [],
   "source": []
  }
 ],
 "metadata": {
  "kernelspec": {
   "display_name": "Python 3",
   "language": "python",
   "name": "python3"
  },
  "language_info": {
   "codemirror_mode": {
    "name": "ipython",
    "version": 3
   },
   "file_extension": ".py",
   "mimetype": "text/x-python",
   "name": "python",
   "nbconvert_exporter": "python",
   "pygments_lexer": "ipython3",
   "version": "3.7.1"
  }
 },
 "nbformat": 4,
 "nbformat_minor": 2
}
