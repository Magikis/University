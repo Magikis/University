{
 "cells": [
  {
   "cell_type": "code",
   "execution_count": 1,
   "metadata": {
    "collapsed": true
   },
   "outputs": [],
   "source": [
    "import numpy as np\n",
    "import collections"
   ]
  },
  {
   "cell_type": "code",
   "execution_count": 2,
   "metadata": {},
   "outputs": [
    {
     "name": "stdout",
     "output_type": "stream",
     "text": [
      "5689163\n"
     ]
    }
   ],
   "source": [
    "K = 5\n",
    "\n",
    "with open('../data/supertags.txt') as f:\n",
    "    supertags = [tuple(x.split()) for x in f]\n",
    "    supertags = {k: v for (k,v) in supertags}\n",
    "    supertags_ID = collections.defaultdict(set) \n",
    "    for k,v in supertags.items():\n",
    "        supertags_ID[v].add(k)\n",
    "\n",
    "def load_data(file_name):\n",
    "    with open(file_name) as f:\n",
    "        res =  [x.split() for x in f if int(x.split()[0]) > K]\n",
    "        print(len(res))\n",
    "        return res\n",
    "two_grams = collections.defaultdict(lambda : collections.defaultdict(int))\n",
    "for val, fst, sec in load_data('../data/poleval_2grams.txt'):\n",
    "    two_grams[fst][sec] = int(val)\n",
    "        "
   ]
  },
  {
   "cell_type": "code",
   "execution_count": 3,
   "metadata": {
    "collapsed": true
   },
   "outputs": [],
   "source": [
    "def phrase_print(x, **args):\n",
    "    print(' '.join(x), **args)\n",
    "\n",
    "def gen_propabilities(words):\n",
    "    #TODO\n",
    "    return np.ones(len(words)) / len(words)\n",
    "\n",
    "def gen_gramaticly_similar_phrase(phrase):\n",
    "    res = []\n",
    "    for word in phrase:\n",
    "        word_tag = supertags[word]\n",
    "        gram_sim_words = supertags_ID[word_tag]\n",
    "#         print(np.array(gram_sim_words))\n",
    "        new_word = np.random.choice(list(gram_sim_words), p=gen_propabilities(gram_sim_words))\n",
    "        res.append(new_word)\n",
    "    return res\n",
    "\n",
    "\n"
   ]
  },
  {
   "cell_type": "markdown",
   "metadata": {},
   "source": [
    "# Unigrams Only"
   ]
  },
  {
   "cell_type": "code",
   "execution_count": 4,
   "metadata": {},
   "outputs": [
    {
     "name": "stdout",
     "output_type": "stream",
     "text": [
      "mały piotruś spotkał w niewielkiej restauracyjce wczoraj poznaną koleżankę\n",
      "bezkoncesyjny nędzarz wyłudził skołowaciawszy nieprawomocnej karierowiczce objaśniwszy afiliowaną konferencję\n"
     ]
    }
   ],
   "source": [
    "PHRASE = 'Mały Piotruś spotkał w niewielkiej restauracyjce wczoraj poznaną koleżankę'.lower().split()\n",
    "phrase_print(PHRASE)\n",
    "new_phrase = gen_gramaticly_similar_phrase(PHRASE)\n",
    "phrase_print(new_phrase)\n"
   ]
  },
  {
   "cell_type": "markdown",
   "metadata": {},
   "source": [
    "# Bigrams"
   ]
  },
  {
   "cell_type": "code",
   "execution_count": 5,
   "metadata": {
    "collapsed": true
   },
   "outputs": [],
   "source": [
    "def gen_gramaticly_similar_phrase(phrase):\n",
    "    res = []\n",
    "    bigrams_next = two_grams['<BOS>']\n",
    "    for word in phrase:\n",
    "        word_tag = supertags[word]\n",
    "        gram_sim_words = supertags_ID[word_tag]\n",
    "        \n",
    "        if len(bigrams_next) <= 0:\n",
    "            raise Exception('tutaj')\n",
    "            \n",
    "        \n",
    "        intersection = {k: bigrams_next[k] for k in gram_sim_words if k in bigrams_next }\n",
    "#         print((len(gram_sim_words) - len(intersection)) / len(gram_sim_words))\n",
    "        if not intersection:\n",
    "            res.append('|')\n",
    "            #TODO unigrams\n",
    "            \n",
    "            intersection = {k:1 for k in bigrams_next}\n",
    "        \n",
    "        counter = np.array(list(intersection.values()))\n",
    "        \n",
    "        new_word = np.random.choice(list(intersection.keys()), p=counter / counter.sum())\n",
    "        res.append(new_word)\n",
    "        bigrams_next[new_word]\n",
    "    return res"
   ]
  },
  {
   "cell_type": "code",
   "execution_count": 6,
   "metadata": {},
   "outputs": [
    {
     "name": "stdout",
     "output_type": "stream",
     "text": [
      "mały piotruś spotkał w niewielkiej restauracyjce wczoraj poznaną koleżankę\n",
      "dotkliwy syn stworzył dlatego niewielkiej krytyce gdy ostudzoną karierę\n"
     ]
    }
   ],
   "source": [
    "phrase_print(PHRASE)\n",
    "new_phrase = gen_gramaticly_similar_phrase(PHRASE)\n",
    "phrase_print(new_phrase)"
   ]
  },
  {
   "cell_type": "code",
   "execution_count": null,
   "metadata": {
    "collapsed": true
   },
   "outputs": [],
   "source": []
  }
 ],
 "metadata": {
  "kernelspec": {
   "display_name": "Python 3",
   "language": "python",
   "name": "python3"
  },
  "language_info": {
   "codemirror_mode": {
    "name": "ipython",
    "version": 3
   },
   "file_extension": ".py",
   "mimetype": "text/x-python",
   "name": "python",
   "nbconvert_exporter": "python",
   "pygments_lexer": "ipython3",
   "version": "3.6.3"
  }
 },
 "nbformat": 4,
 "nbformat_minor": 2
}
