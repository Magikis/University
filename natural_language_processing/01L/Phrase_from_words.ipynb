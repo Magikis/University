{
 "cells": [
  {
   "cell_type": "code",
   "execution_count": 15,
   "metadata": {},
   "outputs": [
    {
     "name": "stdout",
     "output_type": "stream",
     "text": [
      "267\n",
      "CPU times: user 1min 23s, sys: 2.41 s, total: 1min 26s\n",
      "Wall time: 1min 26s\n"
     ]
    }
   ],
   "source": [
    "%%time\n",
    "initial_phrase = '''\n",
    "Judyta dała wczoraj Stefanowi czekoladki\n",
    "Babuleńka miała dwa rogate koziołki\n",
    "Wczoraj wieczorem spotkałem pewną piękną kobietę\n",
    "Przechadzam się po łącę i wącham kwiatki\n",
    "Zbyt wiele godzin spędzam na uczelni\n",
    "Mam dość ciągłęgo umartwiania się\n",
    "'''.lower()\n",
    "\n",
    "# initial_phrase = 'wczoraj wieczorem spotkałem pewną piękną kobietę'.lower().split()\n",
    "\n",
    "def load_data(file_name):\n",
    "    intresting_words = set(initial_phrase.split())\n",
    "    with open(file_name) as f:\n",
    "        res =  [x.lower().split() \n",
    "                for x in f \n",
    "                if all(\n",
    "                    (y in intresting_words \n",
    "                     for y in x.lower().split()[1:])\n",
    "                )\n",
    "               ]\n",
    "        print(len(res))\n",
    "        return res\n",
    "grams2_data = load_data('poleval_2grams.txt')"
   ]
  },
  {
   "cell_type": "code",
   "execution_count": 20,
   "metadata": {
    "scrolled": true
   },
   "outputs": [],
   "source": [
    "import itertools\n",
    "import heapq\n",
    "def count_h(phrase, two_gram_wheiths):\n",
    "    a1, a2 = itertools.tee(phrase)\n",
    "    next(a2)\n",
    "    tokens = zip(a1, a2)\n",
    "    return sum((two_gram_wheiths[x]\n",
    "                for x in tokens \n",
    "                if x in two_gram_wheiths))\n",
    "# print(sum( (1 for x in itertools.permutations(initial_phrase))))\n",
    "used_phrase = initial_phrase.split('\\n')[-2].split()"
   ]
  },
  {
   "cell_type": "code",
   "execution_count": 22,
   "metadata": {},
   "outputs": [
    {
     "name": "stdout",
     "output_type": "stream",
     "text": [
      "CPU times: user 553 µs, sys: 0 ns, total: 553 µs\n",
      "Wall time: 559 µs\n"
     ]
    }
   ],
   "source": [
    "%%time\n",
    "two_grams_weigth = {tuple(x[1:]): int(x[0]) for x in grams2_data}\n",
    "phrases = (\n",
    "    (count_h(x, two_grams_weigth), x) \n",
    "     for x in itertools.permutations(used_phrase)\n",
    ")\n",
    "bests = heapq.nlargest(3, phrases)     "
   ]
  },
  {
   "cell_type": "code",
   "execution_count": 23,
   "metadata": {},
   "outputs": [
    {
     "data": {
      "text/plain": [
       "[(2557, ('umartwiania', 'mam', 'się', 'dość', 'ciągłęgo')),\n",
       " (2557, ('umartwiania', 'ciągłęgo', 'mam', 'się', 'dość')),\n",
       " (2557, ('mam', 'się', 'dość', 'umartwiania', 'ciągłęgo'))]"
      ]
     },
     "execution_count": 23,
     "metadata": {},
     "output_type": "execute_result"
    }
   ],
   "source": [
    "bests"
   ]
  },
  {
   "cell_type": "markdown",
   "metadata": {},
   "source": [
    "# 2-grams sufixes weight"
   ]
  },
  {
   "cell_type": "code",
   "execution_count": 10,
   "metadata": {},
   "outputs": [
    {
     "name": "stdout",
     "output_type": "stream",
     "text": [
      "CPU times: user 2min 35s, sys: 1.87 s, total: 2min 37s\n",
      "Wall time: 2min 38s\n"
     ]
    }
   ],
   "source": [
    "%%time\n",
    "import collections\n",
    "sufixes_weigth = collections.defaultdict(int)\n",
    "with open('poleval_2grams.txt') as f:\n",
    "    for line in f:\n",
    "        data = line.split()\n",
    "        sufixes_weigth[tuple((x[-3:] for x in data[1:]))] += int(data[0])"
   ]
  },
  {
   "cell_type": "code",
   "execution_count": 24,
   "metadata": {},
   "outputs": [
    {
     "name": "stdout",
     "output_type": "stream",
     "text": [
      "CPU times: user 1.89 ms, sys: 0 ns, total: 1.89 ms\n",
      "Wall time: 7.09 ms\n"
     ]
    }
   ],
   "source": [
    "%%time\n",
    "def sufixes_count_h(phrase, two_gram_wheiths):\n",
    "    a1, a2 = itertools.tee((x[-3:] for x in phrase))\n",
    "    next(a2)\n",
    "    tokens = zip(a1, a2)\n",
    "    return sum((two_gram_wheiths[x]\n",
    "                for x in tokens \n",
    "                if x in two_gram_wheiths))\n",
    "\n",
    "sufixes_phrases = (\n",
    "    (sufixes_count_h(x, sufixes_weigth), x) \n",
    "     for x in itertools.permutations(used_phrase)\n",
    ")\n",
    "sufixes_bests = heapq.nlargest(3, sufixes_phrases)     "
   ]
  },
  {
   "cell_type": "code",
   "execution_count": 25,
   "metadata": {},
   "outputs": [
    {
     "data": {
      "text/plain": [
       "[(300181, ('mam', 'dość', 'umartwiania', 'się', 'ciągłęgo')),\n",
       " (300176, ('ciągłęgo', 'mam', 'dość', 'umartwiania', 'się')),\n",
       " (295199, ('dość', 'umartwiania', 'się', 'mam', 'ciągłęgo'))]"
      ]
     },
     "execution_count": 25,
     "metadata": {},
     "output_type": "execute_result"
    }
   ],
   "source": [
    "sufixes_bests"
   ]
  },
  {
   "cell_type": "code",
   "execution_count": null,
   "metadata": {},
   "outputs": [],
   "source": []
  }
 ],
 "metadata": {
  "kernelspec": {
   "display_name": "Python 3",
   "language": "python",
   "name": "python3"
  },
  "language_info": {
   "codemirror_mode": {
    "name": "ipython",
    "version": 3
   },
   "file_extension": ".py",
   "mimetype": "text/x-python",
   "name": "python",
   "nbconvert_exporter": "python",
   "pygments_lexer": "ipython3",
   "version": "3.7.0"
  }
 },
 "nbformat": 4,
 "nbformat_minor": 2
}
