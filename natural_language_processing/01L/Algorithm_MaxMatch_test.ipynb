{
 "cells": [
  {
   "cell_type": "code",
   "execution_count": null,
   "metadata": {},
   "outputs": [],
   "source": [
    "import itertools\n",
    "import numpy as np\n",
    "SLICE_VALUE = 50000\n",
    "with open('polish_corpora.txt', 'r') as f:\n",
    "    data = [next(f).split() for x in range(SLICE_VALUE)]\n"
   ]
  },
  {
   "cell_type": "code",
   "execution_count": null,
   "metadata": {},
   "outputs": [],
   "source": [
    "dictionary = set(itertools.chain(*data))\n",
    "def MaxMatch(phrase):\n",
    "    res = []\n",
    "    word = ''\n",
    "    i = len(phrase)\n",
    "    while i > 0: \n",
    "#         print(phrase[:i])\n",
    "        if phrase[:i] in dictionary or len(phrase[:i]) == 1:\n",
    "            res.append(phrase[:i])\n",
    "            phrase = phrase[i:]\n",
    "            i = len(phrase)\n",
    "        else:\n",
    "            i -= 1\n",
    "    return res\n",
    "\n",
    "def quality(test, result):\n",
    "    recognized_words = 0\n",
    "    temp_result = result.copy()\n",
    "    for x in test:\n",
    "#         index = temp_result.index(x)\n",
    "        if x in temp_result:\n",
    "            recognized_words += 1\n",
    "            temp_result[temp_result.index(x)] = '\\0'\n",
    "    return recognized_words / len(result) * 100"
   ]
  },
  {
   "cell_type": "code",
   "execution_count": null,
   "metadata": {},
   "outputs": [],
   "source": [
    "%%time\n",
    "results = [\n",
    "    quality(\n",
    "        MaxMatch(''.join(x)),\n",
    "        x\n",
    "    ) \n",
    "    for x in data\n",
    "]"
   ]
  },
  {
   "cell_type": "code",
   "execution_count": null,
   "metadata": {},
   "outputs": [],
   "source": [
    "np.mean(results), np.min(results)"
   ]
  },
  {
   "cell_type": "code",
   "execution_count": null,
   "metadata": {},
   "outputs": [],
   "source": [
    "i = np.argmin(results)\n",
    "print(data[i])\n",
    "MaxMatch(''.join(data[i]))"
   ]
  },
  {
   "cell_type": "code",
   "execution_count": null,
   "metadata": {},
   "outputs": [],
   "source": []
  }
 ],
 "metadata": {
  "kernelspec": {
   "display_name": "Python 3",
   "language": "python",
   "name": "python3"
  },
  "language_info": {
   "codemirror_mode": {
    "name": "ipython",
    "version": 3
   },
   "file_extension": ".py",
   "mimetype": "text/x-python",
   "name": "python",
   "nbconvert_exporter": "python",
   "pygments_lexer": "ipython3",
   "version": "3.7.0"
  }
 },
 "nbformat": 4,
 "nbformat_minor": 2
}
