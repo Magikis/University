{
 "cells": [
  {
   "cell_type": "code",
   "execution_count": null,
   "metadata": {},
   "outputs": [],
   "source": [
    "import numpy as np\n",
    "import itertools\n",
    "import random"
   ]
  },
  {
   "cell_type": "markdown",
   "metadata": {},
   "source": [
    " # sandard radom coice\n",
    " ## 2_grams "
   ]
  },
  {
   "cell_type": "code",
   "execution_count": null,
   "metadata": {},
   "outputs": [],
   "source": [
    "%%time\n",
    "K = 70\n",
    "def load_data(file_name):\n",
    "    with open(file_name) as f:\n",
    "        res =  [x.split() for x in f if int(x.split()[0]) > K]\n",
    "        print(len(res))\n",
    "        return res\n",
    "grams2_data = load_data('poleval_2grams.txt')"
   ]
  },
  {
   "cell_type": "code",
   "execution_count": null,
   "metadata": {},
   "outputs": [],
   "source": [
    "data_m = [x[1:] for x in grams2_data]\n",
    "struct_2gram = {k[0]: set() for k in data_m}\n",
    "for x in data_m:\n",
    "    struct_2gram[x[0]].add(x[1])\n"
   ]
  },
  {
   "cell_type": "code",
   "execution_count": null,
   "metadata": {
    "scrolled": false
   },
   "outputs": [],
   "source": [
    "def generate_text(struct):\n",
    "    word = '<BOS>'\n",
    "    for i in range(50):\n",
    "        if word in struct:\n",
    "            temp = struct[word]\n",
    "    #         print(temp)\n",
    "            word = random.choice(list(temp))\n",
    "        else:\n",
    "            word = random.choice(list(struct.keys()))\n",
    "        print(word, end=' ')"
   ]
  },
  {
   "cell_type": "code",
   "execution_count": null,
   "metadata": {
    "scrolled": false
   },
   "outputs": [],
   "source": [
    "generate_text(struct_2gram)"
   ]
  },
  {
   "cell_type": "markdown",
   "metadata": {},
   "source": [
    "## 3_grams"
   ]
  },
  {
   "cell_type": "code",
   "execution_count": null,
   "metadata": {},
   "outputs": [],
   "source": [
    "%%time\n",
    "grams3_data = load_data('poleval_3grams.txt')"
   ]
  },
  {
   "cell_type": "code",
   "execution_count": null,
   "metadata": {},
   "outputs": [],
   "source": [
    "struct_3gram = {(k[1], k[2]): set() for k in grams3_data if len(k) >= 4}\n",
    "for x in grams3_data:\n",
    "    if len(x) >= 4:\n",
    "#         print(x)\n",
    "        struct_3gram[(x[1], x[2])].add(x[3])"
   ]
  },
  {
   "cell_type": "code",
   "execution_count": null,
   "metadata": {},
   "outputs": [],
   "source": [
    "def genereate_3gram_text(struct):\n",
    "    last_words = random.choice(list(struct.keys()))\n",
    "    for i in range(50):\n",
    "        if last_words in struct:\n",
    "            new_word = random.choice(list(struct[last_words]))\n",
    "            last_words = (last_words[1], new_word)\n",
    "        else:\n",
    "            last_words = (last_words[1], random.choice(list(struct.keys()))[0])\n",
    "        print(last_words[-1], end=' ')"
   ]
  },
  {
   "cell_type": "code",
   "execution_count": null,
   "metadata": {},
   "outputs": [],
   "source": [
    "genereate_3gram_text(struct_3gram)"
   ]
  },
  {
   "cell_type": "markdown",
   "metadata": {},
   "source": [
    "# Random choice with weigths\n",
    "\n",
    "## 2grams"
   ]
  },
  {
   "cell_type": "code",
   "execution_count": null,
   "metadata": {},
   "outputs": [],
   "source": [
    "struct_2gram_with_prop = {k[1]: {'prop': [], 'values': []} for k in grams2_data}\n",
    "for x in grams2_data:\n",
    "    data = struct_2gram_with_prop[x[1]]\n",
    "    data['prop'].append(int(x[0]))\n",
    "    data['values'].append(x[2])"
   ]
  },
  {
   "cell_type": "code",
   "execution_count": null,
   "metadata": {},
   "outputs": [],
   "source": [
    "def random_choice_next(data):\n",
    "    propapbilites = np.array(data['prop'])\n",
    "    i = np.random.choice(len(data['values']), p=propapbilites / np.sum(propapbilites))\n",
    "    return data['values'][i]\n",
    "\n",
    "def generate_2gram_withprop_text(struct):\n",
    "    word = '<BOS>'\n",
    "    for i in range(50):\n",
    "        if word in struct:\n",
    "            temp = struct[word]\n",
    "    #         print(temp)\n",
    "            word = random_choice_next(temp)\n",
    "        else:\n",
    "            word = random.choice(list(struct.keys()))\n",
    "        print(word, end=' ')"
   ]
  },
  {
   "cell_type": "code",
   "execution_count": null,
   "metadata": {},
   "outputs": [],
   "source": [
    "generate_2gram_withprop_text(struct_2gram_with_prop)"
   ]
  },
  {
   "cell_type": "markdown",
   "metadata": {},
   "source": [
    "## 3grams"
   ]
  },
  {
   "cell_type": "code",
   "execution_count": null,
   "metadata": {},
   "outputs": [],
   "source": [
    "struct_3gram_with_prop = {(k[1], k[2]): {'prop': [], 'values': []} for k in grams3_data if len(k) >= 4}\n",
    "for x in grams3_data:\n",
    "    if len(x) >= 4:\n",
    "        data = struct_3gram_with_prop[(x[1], x[2])]\n",
    "        data['prop'].append(int(x[0]))\n",
    "        data['values'].append(x[3])"
   ]
  },
  {
   "cell_type": "code",
   "execution_count": null,
   "metadata": {},
   "outputs": [],
   "source": [
    "def generate_3gram_withprop_text(struct):\n",
    "    last_words = random.choice(list(struct.keys()))\n",
    "    for i in range(50):\n",
    "        if last_words in struct:\n",
    "            new_word = random_choice_next(struct[last_words])\n",
    "            last_words = (last_words[1], new_word)\n",
    "        else:\n",
    "            last_words = (last_words[1], random.choice(list(struct.keys()))[0])\n",
    "        print(last_words[-1], end=' ')"
   ]
  },
  {
   "cell_type": "code",
   "execution_count": null,
   "metadata": {},
   "outputs": [],
   "source": [
    "generate_3gram_withprop_text(struct_3gram_with_prop)"
   ]
  },
  {
   "cell_type": "code",
   "execution_count": null,
   "metadata": {},
   "outputs": [],
   "source": []
  }
 ],
 "metadata": {
  "kernelspec": {
   "display_name": "Python 3",
   "language": "python",
   "name": "python3"
  },
  "language_info": {
   "codemirror_mode": {
    "name": "ipython",
    "version": 3
   },
   "file_extension": ".py",
   "mimetype": "text/x-python",
   "name": "python",
   "nbconvert_exporter": "python",
   "pygments_lexer": "ipython3",
   "version": "3.7.0"
  }
 },
 "nbformat": 4,
 "nbformat_minor": 2
}
