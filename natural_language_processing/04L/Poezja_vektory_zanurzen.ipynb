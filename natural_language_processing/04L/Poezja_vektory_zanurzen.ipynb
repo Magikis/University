{
 "cells": [
  {
   "cell_type": "code",
   "execution_count": 1,
   "metadata": {},
   "outputs": [],
   "source": [
    "import numpy as np\n",
    "import re\n",
    "import collections\n",
    "import sklearn.preprocessing\n",
    "import copy\n",
    "vowels = list('aeioóuyąę') + list('aeioóuyąę'.upper())\n",
    "compacted_vovels = ['i' + x for x in vowels if x != 'i']\n",
    "def count_syllable(phrase, verose=False):\n",
    "    res = 0\n",
    "    for i, letter in enumerate(phrase):\n",
    "        if letter in vowels:\n",
    "            res += 1\n",
    "            if verose:\n",
    "                print(letter)\n",
    "        if phrase[i:i+2] in compacted_vovels:\n",
    "            res -= 1\n",
    "            if verose:\n",
    "                print(phrase[i:i+2])\n",
    "    return res\n",
    "def get_rym(w, verbose=False):\n",
    "    best = None\n",
    "    for i in range(len(w)):\n",
    "        if count_syllable(w[i:], verbose) == 2:\n",
    "            best = w[i:]\n",
    "    return best\n",
    "\n",
    "class NotFoundSimWords(Exception):\n",
    "    pass"
   ]
  },
  {
   "cell_type": "code",
   "execution_count": 2,
   "metadata": {},
   "outputs": [],
   "source": [
    "base_vectors = {}\n",
    "with open('../data/poleval_base_vectors.txt') as f:\n",
    "    f.readline()\n",
    "    for i, x in enumerate(f):\n",
    "        splitted = x.split()\n",
    "        vec = np.array([[np.float64(x) for x in splitted[1:]]])\n",
    "        sklearn.preprocessing.normalize(vec, copy=False)\n",
    "        base_vectors[splitted[0]] = vec[0]\n",
    "with open(f'../data/superbazy.txt') as f:\n",
    "    superbase = dict([tuple(line.split()) for line in f])\n",
    "with open(f'../data/supertags.txt') as f:\n",
    "    supertags = dict([tuple(line.split()) for line in f])\n",
    "# FILTER SUPETAGS\n",
    "for word, tag in list(supertags.items()):\n",
    "    if word not in superbase:\n",
    "        del supertags[word]\n",
    "        continue\n",
    "    word_base = superbase[word]\n",
    "    if word_base not in base_vectors:\n",
    "        del supertags[word]\n",
    "    \n",
    "    \n",
    "def same_supertags(tag):\n",
    "    return (\n",
    "        word for word, w_tag in supertags.items()\n",
    "        if w_tag == tag\n",
    "    )\n",
    "\n",
    "\n",
    "        \n",
    "with open('../data/rytmiczne_zdania_z_korpusu.txt') as f:\n",
    "    sentences = [\n",
    "        tuple(\n",
    "            [\n",
    "                [\n",
    "                    x for x in y.split()\n",
    "                ] \n",
    "                for y in line.split('RYM:')[1].rstrip(' .\\n').split('[*]')\n",
    "            ]\n",
    "        ) \n",
    "        for line in f\n",
    "        if 'POTENCJALNY_RYM' in line\n",
    "    ]"
   ]
  },
  {
   "cell_type": "code",
   "execution_count": 3,
   "metadata": {},
   "outputs": [],
   "source": [
    "def sample_verset():\n",
    "    index = np.random.choice(np.arange(len(sentences)))\n",
    "    return sentences[index]\n",
    "\n",
    "def find_similar(goal_word, rym=None, accept_goal_word=False):\n",
    "    goal_tag = supertags[goal_word]\n",
    "    goal_syllabels = count_syllable(goal_word)\n",
    "    return np.array([\n",
    "        x\n",
    "        for x in same_supertags(goal_tag)\n",
    "        if rym is None or get_rym(x) == rym\n",
    "        if count_syllable(x) == goal_syllabels\n",
    "        if accept_goal_word or (x != goal_word)\n",
    "    ])\n",
    "\n",
    "def get_base_vector(word):\n",
    "    base = superbase[word]\n",
    "    return base_vectors[base]\n",
    "\n",
    "def score_simmilarity(goal_word, words_set):\n",
    "    words_set_vectors = np.array([get_base_vector(x) for x in words_set])\n",
    "    return get_base_vector(goal_word) @ words_set_vectors.T    \n",
    "\n",
    "def find_most_similar(words, scores, initial_word):\n",
    "    best = words[scores.argmax()]\n",
    "    return best\n",
    "\n",
    "def format_output(output):\n",
    "    for i, v in enumerate(output.values()):\n",
    "        print(f'#####{i}')\n",
    "        print(' '.join(v[0]))\n",
    "        print(' '.join(v[1]))\n",
    "        print()"
   ]
  },
  {
   "cell_type": "code",
   "execution_count": 4,
   "metadata": {},
   "outputs": [],
   "source": [
    "def modify_middle_of_poem(verset):\n",
    "    new_verset = copy.deepcopy(verset)\n",
    "    for i, phrase in enumerate(verset):\n",
    "        for j, word in enumerate(phrase[:-1]):\n",
    "            if np.random.rand() < 0.6 and word in supertags:\n",
    "                sim_set = find_similar(word)\n",
    "#                 print(sim_set)\n",
    "                if sim_set.size > 50:\n",
    "                    scores = score_simmilarity(word, sim_set)\n",
    "                    best_word = find_most_similar(sim_set, scores, word)\n",
    "                    new_verset[i][j] = best_word\n",
    "    return new_verset\n"
   ]
  },
  {
   "cell_type": "code",
   "execution_count": 5,
   "metadata": {},
   "outputs": [],
   "source": [
    "def swich_ryhems(w1,w2):\n",
    "    s_w1 = [(x, get_rym(x), get_base_vector(x)) for x in find_similar(w1, accept_goal_word=True)]\n",
    "    s_w2 = [(x, get_rym(x), get_base_vector(x)) for x in find_similar(w2, accept_goal_word=True)]\n",
    "    bv1 = get_base_vector(w1)\n",
    "    bv2 = get_base_vector(w2)\n",
    "    best = max((\n",
    "        ((d1[2] @ bv1 + d2[2] @ bv2) / 2,\n",
    "         d1[0],\n",
    "         d2[0]\n",
    "        )\n",
    "        for d1 in s_w1\n",
    "        for d2 in s_w2\n",
    "        if d1[1] == d2[1]\n",
    "    ))\n",
    "    print(w1, w2)\n",
    "    print(best[1], best[2])\n",
    "    return best[1:]\n",
    "\n",
    "def gen_poem():\n",
    "    verset = sample_verset()\n",
    "    new_verset = copy.deepcopy(verset)\n",
    "    new_verset[0][-1], new_verset[1][-1] = swich_ryhems(verset[0][-1], verset[1][-1])\n",
    "    res = {\n",
    "        'initial': verset,\n",
    "        'changed': new_verset,\n",
    "    }\n",
    "    # format_output(res)\n",
    "    res['3'] = modify_middle_of_poem(res['changed'])\n",
    "    format_output(res)"
   ]
  },
  {
   "cell_type": "code",
   "execution_count": 6,
   "metadata": {},
   "outputs": [
    {
     "name": "stdout",
     "output_type": "stream",
     "text": [
      "otrzymuje wypracowań\n",
      "marnotrawi prawosławi\n",
      "#####0\n",
      "dodatkowe oceny uczeń otrzymuje\n",
      "za niektóre z pisanych w domu wypracowań\n",
      "\n",
      "#####1\n",
      "dodatkowe oceny uczeń marnotrawi\n",
      "za niektóre z pisanych w domu prawosławi\n",
      "\n",
      "#####2\n",
      "przestojowe oceny uczeń marnotrawi\n",
      "za niektóre z pisanych w domu prawosławi\n",
      "\n"
     ]
    }
   ],
   "source": [
    "gen_poem()"
   ]
  },
  {
   "cell_type": "code",
   "execution_count": 7,
   "metadata": {},
   "outputs": [
    {
     "name": "stdout",
     "output_type": "stream",
     "text": [
      "gatunki ozdobne\n",
      "pływacze kozacze\n",
      "#####0\n",
      "gdzie indziej , także w polsce niektóre gatunki\n",
      "są uprawiane jako rośliny ozdobne\n",
      "\n",
      "#####1\n",
      "gdzie indziej , także w polsce niektóre pływacze\n",
      "są uprawiane jako rośliny kozacze\n",
      "\n",
      "#####2\n",
      "gdzie indziej , także w polsce niektóre pływacze\n",
      "są uprawiane jako krzewinki kozacze\n",
      "\n"
     ]
    }
   ],
   "source": [
    "gen_poem()"
   ]
  },
  {
   "cell_type": "code",
   "execution_count": 8,
   "metadata": {},
   "outputs": [
    {
     "name": "stdout",
     "output_type": "stream",
     "text": [
      "minęła dzieła\n",
      "zleciała ciała\n",
      "#####0\n",
      "wacław trzeba więc jechać , bo moda minęła\n",
      ", z piątego aktu sądzić o dobroci dzieła\n",
      "\n",
      "#####1\n",
      "wacław trzeba więc jechać , bo moda zleciała\n",
      ", z piątego aktu sądzić o dobroci ciała\n",
      "\n",
      "#####2\n",
      "zygmunt trzeba więc jeździć , bo moda zleciała\n",
      ", z piątego aktu wierzyć o bojaźni ciała\n",
      "\n"
     ]
    }
   ],
   "source": [
    "gen_poem()"
   ]
  },
  {
   "cell_type": "code",
   "execution_count": null,
   "metadata": {},
   "outputs": [],
   "source": []
  }
 ],
 "metadata": {
  "kernelspec": {
   "display_name": "Python 3",
   "language": "python",
   "name": "python3"
  },
  "language_info": {
   "codemirror_mode": {
    "name": "ipython",
    "version": 3
   },
   "file_extension": ".py",
   "mimetype": "text/x-python",
   "name": "python",
   "nbconvert_exporter": "python",
   "pygments_lexer": "ipython3",
   "version": "3.7.1"
  }
 },
 "nbformat": 4,
 "nbformat_minor": 2
}
