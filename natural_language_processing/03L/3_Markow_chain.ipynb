{
 "cells": [
  {
   "cell_type": "code",
   "execution_count": 123,
   "metadata": {},
   "outputs": [],
   "source": [
    "import numpy as np\n",
    "\n",
    "with open('kasyno10K.txt') as f:\n",
    "    kasyno = np.array([int(x) for x in f.read()])"
   ]
  },
  {
   "cell_type": "code",
   "execution_count": 98,
   "metadata": {},
   "outputs": [],
   "source": [
    "dice_types = {\n",
    "    'normal': 0,\n",
    "    'cheated': 1,\n",
    "}\n",
    "p_distribution = np.array(((np.ones(6) / 6) ,  (np.ones(6) / 10)))\n",
    "\n",
    "p_distribution[1][-1] = 0.5\n",
    "\n",
    "p_switch = np.array((0.04, 0.05))\n",
    "\n",
    "def gen_data(size=10000):\n",
    "    throws = []\n",
    "    dices = []\n",
    "    dice_type = dice_types['normal']\n",
    "    for i in range(size):\n",
    "        dices.append(dice_type)\n",
    "        throws.append(\n",
    "            np.random.choice(np.arange(1,7), p=p_distribution[dice_type])\n",
    "        )\n",
    "        \n",
    "        if np.random.rand() <= p_switch[dice_type]:\n",
    "                dice_type = 1 - dice_type\n",
    "    return np.array(throws), np.array(dices)\n",
    "\n",
    "def heuristic(data, interval, num_of_sixes):\n",
    "    res = np.zeros(data.size, dtype=int)\n",
    "    for i in range(0, len(data), interval):\n",
    "        sample = data[i:i+interval]\n",
    "        res[i:i+interval] = int((sample == 6).sum() >= num_of_sixes)\n",
    "    return res"
   ]
  },
  {
   "cell_type": "code",
   "execution_count": 105,
   "metadata": {},
   "outputs": [],
   "source": [
    "data, dices = gen_data(6000)\n",
    "# data"
   ]
  },
  {
   "cell_type": "code",
   "execution_count": 106,
   "metadata": {},
   "outputs": [
    {
     "name": "stdout",
     "output_type": "stream",
     "text": [
      "[(interval, num_of_sixes), result]\n"
     ]
    },
    {
     "data": {
      "text/plain": [
       "array([[(21, 7), 0.8035],\n",
       "       [(15, 5), 0.7973333333333333],\n",
       "       [(21, 8), 0.7941666666666667],\n",
       "       [(20, 7), 0.794],\n",
       "       [(9, 3), 0.7935]], dtype=object)"
      ]
     },
     "execution_count": 106,
     "metadata": {},
     "output_type": "execute_result"
    }
   ],
   "source": [
    "heuristic_res = []\n",
    "for interval in range(7, 30):\n",
    "    j = interval // 2\n",
    "    for num_of_sixes in range(j-4, j+5):\n",
    "        val = (heuristic(data, interval, num_of_sixes) == dices).mean()\n",
    "        heuristic_res.append([(interval, num_of_sixes), val])\n",
    "x = np.array(heuristic_res)\n",
    "ids = x[: ,1].argsort()\n",
    "print('[(interval, num_of_sixes), result]')\n",
    "x[ids[::-1]][:5]"
   ]
  },
  {
   "cell_type": "code",
   "execution_count": 107,
   "metadata": {},
   "outputs": [
    {
     "name": "stdout",
     "output_type": "stream",
     "text": [
      "model: alpha\n",
      "sum: 2536\n",
      "mean: 0.7526666666666667\n",
      "-----------------\n",
      "model: beta\n",
      "sum: 2587\n",
      "mean: 0.7685\n",
      "-----------------\n",
      "model: gamma\n",
      "sum: 2435\n",
      "mean: 0.8338333333333333\n",
      "-----------------\n"
     ]
    }
   ],
   "source": [
    "def vitterbi(\n",
    "    data,\n",
    "    a=np.array([\n",
    "        [1 - p_switch[0], p_switch[0]],\n",
    "        [p_switch[1], 1 - p_switch[1]]\n",
    "    ]),\n",
    "    b=np.array([\n",
    "        [p_distribution[0], p_distribution[0]],\n",
    "        [p_distribution[1], p_distribution[1]]\n",
    "    ]),\n",
    "    pi=np.array([1,0]),\n",
    "    ret_params=False\n",
    "):\n",
    "    alpha = np.zeros((2, data.size), dtype=np.float128)\n",
    "\n",
    "    alpha[:, 0] = pi\n",
    "    for t in range(1, data.size):\n",
    "        for j in range(2):\n",
    "            for i in range(2):\n",
    "                alpha[j, t] += alpha[i, t-1] * a[i, j] * b[i, j, data[t-1] - 1]\n",
    "            alpha[j, t] *= 1\n",
    "    \n",
    "    beta = np.zeros((2, data.size), dtype=np.float128)\n",
    "    beta[:, data.size - 1] = 1\n",
    "    for t in range(data.size - 2, -1, -1):\n",
    "        for j in range(2):\n",
    "            for i in range(2):\n",
    "                beta[j, t] += beta[i, t+1] * a[i, j] * b[i, j, data[t] - 1]\n",
    "            beta[j, t] *= 1\n",
    "    \n",
    "    gamma = alpha * beta / (alpha * beta).sum() \n",
    "    \n",
    "    if ret_params:\n",
    "        return (alpha, beta, gamma)\n",
    "    return alpha.argmax(0), beta.argmax(0), gamma.argmax(0)\n",
    "        \n",
    "x = vitterbi(data)\n",
    "for x, name in zip(x, ['alpha', 'beta', 'gamma']):\n",
    "    print('model:', name)\n",
    "    print('sum:', x.sum())\n",
    "    print('mean:', (x == dices).mean())\n",
    "    print('-----------------')"
   ]
  },
  {
   "cell_type": "markdown",
   "metadata": {},
   "source": [
    "# Excersize 4\n",
    "#### We don't know model parameters"
   ]
  },
  {
   "cell_type": "code",
   "execution_count": 171,
   "metadata": {},
   "outputs": [
    {
     "name": "stdout",
     "output_type": "stream",
     "text": [
      "[0.15284744 0.19141021]\n",
      "[[0.01821802 0.10076424 0.14973304 0.08835911 0.33814757 0.30477802]\n",
      " [0.14043395 0.06796315 0.21368773 0.06804363 0.25836263 0.25150891]]\n",
      "[1. 1.] [1. 1.]\n",
      "\n"
     ]
    },
    {
     "data": {
      "text/plain": [
       "(array([[1.00000000e+00, 3.56667195e-73],\n",
       "        [1.00000000e+00, 2.21721065e-67]]),\n",
       " array([[1.44518295e-01, 1.29183020e-01, 1.36517282e-01, 1.40184413e-01,\n",
       "         1.33016839e-01, 3.16580152e-01],\n",
       "        [3.67106012e-65, 3.28151279e-65, 3.46781803e-65, 3.55673645e-65,\n",
       "         3.37889962e-65, 1.00000000e+00]]))"
      ]
     },
     "execution_count": 171,
     "metadata": {},
     "output_type": "execute_result"
    }
   ],
   "source": [
    "def count_ksi(data, alpha, a, b, betha):\n",
    "    ksi = np.zeros((data.size - 1, 2, 2 ), dtype=np.float128)\n",
    "    for t in range(data.size - 1):\n",
    "        for i in range(2):\n",
    "            for j in range(2):\n",
    "                ksi[t, i, j] = (\n",
    "                    alpha[i, t] *\n",
    "                    a[i, j] *\n",
    "                    b[i, j, (data[t+1] - 1)] *\n",
    "                    betha[j, t+1]\n",
    "                )\n",
    "    return ksi\n",
    "\n",
    "def EM(data, a, b, pi, iter_num=5):\n",
    "    a = a.copy()\n",
    "    b = b.copy()\n",
    "    for SIZE in range(iter_num):\n",
    "        alpha, betha, gamma = vitterbi(data, a, b, pi, True)\n",
    "        ksi = count_ksi(data, alpha, a, b, betha)\n",
    "        a_roof = np.zeros(a.shape, dtype=np.float128)\n",
    "        b_roof = np.zeros(b.shape, dtype=np.float128)\n",
    "        for i in range(2):\n",
    "            for j in range(2):\n",
    "                a[i, j] = ksi[:, i, j].sum() / ksi[:, i, :].sum()\n",
    "        for i in range(2):\n",
    "            for k in range(6):\n",
    "                b[i, :, k] = gamma[i, (data - 1) == k].sum() / gamma[i, :].sum() \n",
    "    \n",
    "    return a, b[:, 0]\n",
    "\n",
    "p_switch = np.random.rand(2)\n",
    "\n",
    "for i in range(2):\n",
    "    p_distribution[i] = np.random.rand(6)\n",
    "    p_distribution[i] /= p_distribution[i].sum()\n",
    "print(p_switch)\n",
    "print(p_distribution)\n",
    "a=np.array([\n",
    "    [1 - p_switch[0], p_switch[0]],\n",
    "    [p_switch[1], 1 - p_switch[1]]\n",
    "])\n",
    "b=np.array([\n",
    "    [p_distribution[0], p_distribution[0]],\n",
    "    [p_distribution[1], p_distribution[1]]\n",
    "])\n",
    "pi=np.array([1,0])\n",
    "\n",
    "\n",
    "\n",
    "t = EM(data[:6000], a, b, pi, 20)\n",
    "print(\n",
    "    t[0].sum(1),\n",
    "    t[1].sum(1)\n",
    ")\n",
    "\n",
    "print()\n",
    "t"
   ]
  },
  {
   "cell_type": "code",
   "execution_count": 151,
   "metadata": {},
   "outputs": [],
   "source": [
    "for i in range(2):\n",
    "    p_distribution[i] = np.random.rand(6)\n",
    "    p_distribution[i] /= p_distribution[i].sum()\n",
    "a=np.array([\n",
    "    [1 - p_switch[0], p_switch[0]],\n",
    "    [p_switch[1], 1 - p_switch[1]]\n",
    "])\n",
    "b=np.array([\n",
    "    [p_distribution[0], p_distribution[0]],\n",
    "    [p_distribution[1], p_distribution[1]]\n",
    "])\n",
    "pi=np.array([1,0])"
   ]
  },
  {
   "cell_type": "code",
   "execution_count": 162,
   "metadata": {},
   "outputs": [
    {
     "name": "stdout",
     "output_type": "stream",
     "text": [
      "[0.64025303 0.12562101]\n",
      "[[0.07214421 0.20219166 0.27743459 0.22564479 0.07397163 0.14861312]\n",
      " [0.28624503 0.04311781 0.299834   0.10703876 0.10863082 0.15513359]]\n",
      "[1. 1.] [1. 1.]\n",
      "\n"
     ]
    },
    {
     "data": {
      "text/plain": [
       "(array([[3.65235443e-03, 9.96347646e-01],\n",
       "        [8.28972536e-04, 9.99171027e-01]]),\n",
       " array([[0.13349818, 0.13760741, 0.18185745, 0.09328206, 0.17186961,\n",
       "         0.28188529],\n",
       "        [0.13642194, 0.13336988, 0.17823306, 0.09298958, 0.17252174,\n",
       "         0.28646379]]))"
      ]
     },
     "execution_count": 162,
     "metadata": {},
     "output_type": "execute_result"
    }
   ],
   "source": [
    "print(p_switch)\n",
    "print(p_distribution)\n",
    "t = EM(kasyno[:6000], a, b, pi, iter_num=2)\n",
    "print(\n",
    "    t[0].sum(1),\n",
    "    t[1].sum(1)\n",
    ")\n",
    "\n",
    "print()\n",
    "t"
   ]
  }
 ],
 "metadata": {
  "kernelspec": {
   "display_name": "Python 3",
   "language": "python",
   "name": "python3"
  },
  "language_info": {
   "codemirror_mode": {
    "name": "ipython",
    "version": 3
   },
   "file_extension": ".py",
   "mimetype": "text/x-python",
   "name": "python",
   "nbconvert_exporter": "python",
   "pygments_lexer": "ipython3",
   "version": "3.6.7"
  }
 },
 "nbformat": 4,
 "nbformat_minor": 2
}
