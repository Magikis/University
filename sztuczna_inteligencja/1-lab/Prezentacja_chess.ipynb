{
 "cells": [
  {
   "cell_type": "code",
   "execution_count": 1,
   "metadata": {},
   "outputs": [],
   "source": [
    "import tabulate\n",
    "from IPython.core.display import display, HTML\n",
    "figures = ('♔', '♖', '♚')\n",
    "def pos2d(s):\n",
    "    \"\"\"\n",
    "        s - position on the board, for example 'a3' or 'h8'\n",
    "    \"\"\"\n",
    "    column = ord(s[0]) - ord('a')\n",
    "    row = ord(s[1]) - ord('1')\n",
    "    return column, row\n",
    "\n",
    "def print_board( pos ):\n",
    "    MAX_BOARD = 8\n",
    "    wk, wt, bk = pos\n",
    "    \"\"\"\n",
    "        wk - position of the white king\n",
    "        wt - position of the white tower\n",
    "        bk - position of the black king\n",
    "      \"\"\"\n",
    "    board = [ [' ' for i in range(MAX_BOARD)] for j in range(MAX_BOARD) ] \n",
    "    c,r = pos2d(wk)\n",
    "    board[r][c] = figures[0]\n",
    "    c,r = pos2d(wt)\n",
    "    board[r][c] = figures[1]\n",
    "    c,r = pos2d(bk)\n",
    "    board[r][c] = figures[2]\n",
    "    board = [ ([chr(j+49)] + board[j]) for j in range(MAX_BOARD) ] + [ [' '] +  [chr(j+97) for j in range(MAX_BOARD)] ]\n",
    "    display(HTML(tabulate.tabulate(board, tablefmt='html').replace(\n",
    "        '<table>', '<table style=\"border: 2px solid black;\">').replace(\n",
    "        '<td>'   , '<td    style=\"border: 1px solid black;\">')\n",
    "    ))"
   ]
  },
  {
   "cell_type": "code",
   "execution_count": 2,
   "metadata": {},
   "outputs": [
    {
     "data": {
      "text/html": [
       "<table style=\"border: 2px solid black;\">\n",
       "<tbody>\n",
       "<tr><td    style=\"border: 1px solid black;\">1</td><td    style=\"border: 1px solid black;\"> </td><td    style=\"border: 1px solid black;\"> </td><td    style=\"border: 1px solid black;\"> </td><td    style=\"border: 1px solid black;\"> </td><td    style=\"border: 1px solid black;\"> </td><td    style=\"border: 1px solid black;\"> </td><td    style=\"border: 1px solid black;\"> </td><td    style=\"border: 1px solid black;\"> </td></tr>\n",
       "<tr><td    style=\"border: 1px solid black;\">2</td><td    style=\"border: 1px solid black;\">♚</td><td    style=\"border: 1px solid black;\"> </td><td    style=\"border: 1px solid black;\">♔</td><td    style=\"border: 1px solid black;\"> </td><td    style=\"border: 1px solid black;\"> </td><td    style=\"border: 1px solid black;\"> </td><td    style=\"border: 1px solid black;\"> </td><td    style=\"border: 1px solid black;\"> </td></tr>\n",
       "<tr><td    style=\"border: 1px solid black;\">3</td><td    style=\"border: 1px solid black;\"> </td><td    style=\"border: 1px solid black;\"> </td><td    style=\"border: 1px solid black;\"> </td><td    style=\"border: 1px solid black;\"> </td><td    style=\"border: 1px solid black;\"> </td><td    style=\"border: 1px solid black;\"> </td><td    style=\"border: 1px solid black;\"> </td><td    style=\"border: 1px solid black;\"> </td></tr>\n",
       "<tr><td    style=\"border: 1px solid black;\">4</td><td    style=\"border: 1px solid black;\">♖</td><td    style=\"border: 1px solid black;\"> </td><td    style=\"border: 1px solid black;\"> </td><td    style=\"border: 1px solid black;\"> </td><td    style=\"border: 1px solid black;\"> </td><td    style=\"border: 1px solid black;\"> </td><td    style=\"border: 1px solid black;\"> </td><td    style=\"border: 1px solid black;\"> </td></tr>\n",
       "<tr><td    style=\"border: 1px solid black;\">5</td><td    style=\"border: 1px solid black;\"> </td><td    style=\"border: 1px solid black;\"> </td><td    style=\"border: 1px solid black;\"> </td><td    style=\"border: 1px solid black;\"> </td><td    style=\"border: 1px solid black;\"> </td><td    style=\"border: 1px solid black;\"> </td><td    style=\"border: 1px solid black;\"> </td><td    style=\"border: 1px solid black;\"> </td></tr>\n",
       "<tr><td    style=\"border: 1px solid black;\">6</td><td    style=\"border: 1px solid black;\"> </td><td    style=\"border: 1px solid black;\"> </td><td    style=\"border: 1px solid black;\"> </td><td    style=\"border: 1px solid black;\"> </td><td    style=\"border: 1px solid black;\"> </td><td    style=\"border: 1px solid black;\"> </td><td    style=\"border: 1px solid black;\"> </td><td    style=\"border: 1px solid black;\"> </td></tr>\n",
       "<tr><td    style=\"border: 1px solid black;\">7</td><td    style=\"border: 1px solid black;\"> </td><td    style=\"border: 1px solid black;\"> </td><td    style=\"border: 1px solid black;\"> </td><td    style=\"border: 1px solid black;\"> </td><td    style=\"border: 1px solid black;\"> </td><td    style=\"border: 1px solid black;\"> </td><td    style=\"border: 1px solid black;\"> </td><td    style=\"border: 1px solid black;\"> </td></tr>\n",
       "<tr><td    style=\"border: 1px solid black;\">8</td><td    style=\"border: 1px solid black;\"> </td><td    style=\"border: 1px solid black;\"> </td><td    style=\"border: 1px solid black;\"> </td><td    style=\"border: 1px solid black;\"> </td><td    style=\"border: 1px solid black;\"> </td><td    style=\"border: 1px solid black;\"> </td><td    style=\"border: 1px solid black;\"> </td><td    style=\"border: 1px solid black;\"> </td></tr>\n",
       "<tr><td    style=\"border: 1px solid black;\"> </td><td    style=\"border: 1px solid black;\">a</td><td    style=\"border: 1px solid black;\">b</td><td    style=\"border: 1px solid black;\">c</td><td    style=\"border: 1px solid black;\">d</td><td    style=\"border: 1px solid black;\">e</td><td    style=\"border: 1px solid black;\">f</td><td    style=\"border: 1px solid black;\">g</td><td    style=\"border: 1px solid black;\">h</td></tr>\n",
       "</tbody>\n",
       "</table>"
      ],
      "text/plain": [
       "<IPython.core.display.HTML object>"
      ]
     },
     "metadata": {},
     "output_type": "display_data"
    }
   ],
   "source": [
    "from chess import *\n",
    "mem.clear()\n",
    "log.clear()\n",
    "GlobalState = tuple([pos2d(i) for i in startTuple()])\n",
    "res = bfs(GlobalState, WHITE)\n",
    "print_board(stateToCharState(res[1]))"
   ]
  },
  {
   "cell_type": "code",
   "execution_count": 3,
   "metadata": {},
   "outputs": [
    {
     "data": {
      "text/plain": [
       "(5, ((2, 1), (0, 3), (0, 1)))"
      ]
     },
     "execution_count": 3,
     "metadata": {},
     "output_type": "execute_result"
    }
   ],
   "source": [
    "res"
   ]
  },
  {
   "cell_type": "code",
   "execution_count": 4,
   "metadata": {},
   "outputs": [
    {
     "data": {
      "text/html": [
       "<table style=\"border: 2px solid black;\">\n",
       "<tbody>\n",
       "<tr><td    style=\"border: 1px solid black;\">1</td><td    style=\"border: 1px solid black;\"> </td><td    style=\"border: 1px solid black;\"> </td><td    style=\"border: 1px solid black;\"> </td><td    style=\"border: 1px solid black;\"> </td><td    style=\"border: 1px solid black;\"> </td><td    style=\"border: 1px solid black;\"> </td><td    style=\"border: 1px solid black;\"> </td><td    style=\"border: 1px solid black;\"> </td></tr>\n",
       "<tr><td    style=\"border: 1px solid black;\">2</td><td    style=\"border: 1px solid black;\">♔</td><td    style=\"border: 1px solid black;\"> </td><td    style=\"border: 1px solid black;\"> </td><td    style=\"border: 1px solid black;\"> </td><td    style=\"border: 1px solid black;\"> </td><td    style=\"border: 1px solid black;\"> </td><td    style=\"border: 1px solid black;\"> </td><td    style=\"border: 1px solid black;\"> </td></tr>\n",
       "<tr><td    style=\"border: 1px solid black;\">3</td><td    style=\"border: 1px solid black;\"> </td><td    style=\"border: 1px solid black;\"> </td><td    style=\"border: 1px solid black;\"> </td><td    style=\"border: 1px solid black;\"> </td><td    style=\"border: 1px solid black;\"> </td><td    style=\"border: 1px solid black;\"> </td><td    style=\"border: 1px solid black;\"> </td><td    style=\"border: 1px solid black;\"> </td></tr>\n",
       "<tr><td    style=\"border: 1px solid black;\">4</td><td    style=\"border: 1px solid black;\">♚</td><td    style=\"border: 1px solid black;\"> </td><td    style=\"border: 1px solid black;\"> </td><td    style=\"border: 1px solid black;\"> </td><td    style=\"border: 1px solid black;\">♖</td><td    style=\"border: 1px solid black;\"> </td><td    style=\"border: 1px solid black;\"> </td><td    style=\"border: 1px solid black;\"> </td></tr>\n",
       "<tr><td    style=\"border: 1px solid black;\">5</td><td    style=\"border: 1px solid black;\"> </td><td    style=\"border: 1px solid black;\"> </td><td    style=\"border: 1px solid black;\"> </td><td    style=\"border: 1px solid black;\"> </td><td    style=\"border: 1px solid black;\"> </td><td    style=\"border: 1px solid black;\"> </td><td    style=\"border: 1px solid black;\"> </td><td    style=\"border: 1px solid black;\"> </td></tr>\n",
       "<tr><td    style=\"border: 1px solid black;\">6</td><td    style=\"border: 1px solid black;\"> </td><td    style=\"border: 1px solid black;\"> </td><td    style=\"border: 1px solid black;\"> </td><td    style=\"border: 1px solid black;\"> </td><td    style=\"border: 1px solid black;\"> </td><td    style=\"border: 1px solid black;\"> </td><td    style=\"border: 1px solid black;\"> </td><td    style=\"border: 1px solid black;\"> </td></tr>\n",
       "<tr><td    style=\"border: 1px solid black;\">7</td><td    style=\"border: 1px solid black;\"> </td><td    style=\"border: 1px solid black;\"> </td><td    style=\"border: 1px solid black;\"> </td><td    style=\"border: 1px solid black;\"> </td><td    style=\"border: 1px solid black;\"> </td><td    style=\"border: 1px solid black;\"> </td><td    style=\"border: 1px solid black;\"> </td><td    style=\"border: 1px solid black;\"> </td></tr>\n",
       "<tr><td    style=\"border: 1px solid black;\">8</td><td    style=\"border: 1px solid black;\"> </td><td    style=\"border: 1px solid black;\"> </td><td    style=\"border: 1px solid black;\"> </td><td    style=\"border: 1px solid black;\"> </td><td    style=\"border: 1px solid black;\"> </td><td    style=\"border: 1px solid black;\"> </td><td    style=\"border: 1px solid black;\"> </td><td    style=\"border: 1px solid black;\"> </td></tr>\n",
       "<tr><td    style=\"border: 1px solid black;\"> </td><td    style=\"border: 1px solid black;\">a</td><td    style=\"border: 1px solid black;\">b</td><td    style=\"border: 1px solid black;\">c</td><td    style=\"border: 1px solid black;\">d</td><td    style=\"border: 1px solid black;\">e</td><td    style=\"border: 1px solid black;\">f</td><td    style=\"border: 1px solid black;\">g</td><td    style=\"border: 1px solid black;\">h</td></tr>\n",
       "</tbody>\n",
       "</table>"
      ],
      "text/plain": [
       "<IPython.core.display.HTML object>"
      ]
     },
     "metadata": {},
     "output_type": "display_data"
    },
    {
     "data": {
      "text/html": [
       "<table style=\"border: 2px solid black;\">\n",
       "<tbody>\n",
       "<tr><td    style=\"border: 1px solid black;\">1</td><td    style=\"border: 1px solid black;\"> </td><td    style=\"border: 1px solid black;\">♔</td><td    style=\"border: 1px solid black;\"> </td><td    style=\"border: 1px solid black;\"> </td><td    style=\"border: 1px solid black;\"> </td><td    style=\"border: 1px solid black;\"> </td><td    style=\"border: 1px solid black;\"> </td><td    style=\"border: 1px solid black;\"> </td></tr>\n",
       "<tr><td    style=\"border: 1px solid black;\">2</td><td    style=\"border: 1px solid black;\"> </td><td    style=\"border: 1px solid black;\"> </td><td    style=\"border: 1px solid black;\"> </td><td    style=\"border: 1px solid black;\"> </td><td    style=\"border: 1px solid black;\"> </td><td    style=\"border: 1px solid black;\"> </td><td    style=\"border: 1px solid black;\"> </td><td    style=\"border: 1px solid black;\"> </td></tr>\n",
       "<tr><td    style=\"border: 1px solid black;\">3</td><td    style=\"border: 1px solid black;\"> </td><td    style=\"border: 1px solid black;\"> </td><td    style=\"border: 1px solid black;\"> </td><td    style=\"border: 1px solid black;\"> </td><td    style=\"border: 1px solid black;\"> </td><td    style=\"border: 1px solid black;\"> </td><td    style=\"border: 1px solid black;\"> </td><td    style=\"border: 1px solid black;\"> </td></tr>\n",
       "<tr><td    style=\"border: 1px solid black;\">4</td><td    style=\"border: 1px solid black;\">♚</td><td    style=\"border: 1px solid black;\"> </td><td    style=\"border: 1px solid black;\"> </td><td    style=\"border: 1px solid black;\"> </td><td    style=\"border: 1px solid black;\">♖</td><td    style=\"border: 1px solid black;\"> </td><td    style=\"border: 1px solid black;\"> </td><td    style=\"border: 1px solid black;\"> </td></tr>\n",
       "<tr><td    style=\"border: 1px solid black;\">5</td><td    style=\"border: 1px solid black;\"> </td><td    style=\"border: 1px solid black;\"> </td><td    style=\"border: 1px solid black;\"> </td><td    style=\"border: 1px solid black;\"> </td><td    style=\"border: 1px solid black;\"> </td><td    style=\"border: 1px solid black;\"> </td><td    style=\"border: 1px solid black;\"> </td><td    style=\"border: 1px solid black;\"> </td></tr>\n",
       "<tr><td    style=\"border: 1px solid black;\">6</td><td    style=\"border: 1px solid black;\"> </td><td    style=\"border: 1px solid black;\"> </td><td    style=\"border: 1px solid black;\"> </td><td    style=\"border: 1px solid black;\"> </td><td    style=\"border: 1px solid black;\"> </td><td    style=\"border: 1px solid black;\"> </td><td    style=\"border: 1px solid black;\"> </td><td    style=\"border: 1px solid black;\"> </td></tr>\n",
       "<tr><td    style=\"border: 1px solid black;\">7</td><td    style=\"border: 1px solid black;\"> </td><td    style=\"border: 1px solid black;\"> </td><td    style=\"border: 1px solid black;\"> </td><td    style=\"border: 1px solid black;\"> </td><td    style=\"border: 1px solid black;\"> </td><td    style=\"border: 1px solid black;\"> </td><td    style=\"border: 1px solid black;\"> </td><td    style=\"border: 1px solid black;\"> </td></tr>\n",
       "<tr><td    style=\"border: 1px solid black;\">8</td><td    style=\"border: 1px solid black;\"> </td><td    style=\"border: 1px solid black;\"> </td><td    style=\"border: 1px solid black;\"> </td><td    style=\"border: 1px solid black;\"> </td><td    style=\"border: 1px solid black;\"> </td><td    style=\"border: 1px solid black;\"> </td><td    style=\"border: 1px solid black;\"> </td><td    style=\"border: 1px solid black;\"> </td></tr>\n",
       "<tr><td    style=\"border: 1px solid black;\"> </td><td    style=\"border: 1px solid black;\">a</td><td    style=\"border: 1px solid black;\">b</td><td    style=\"border: 1px solid black;\">c</td><td    style=\"border: 1px solid black;\">d</td><td    style=\"border: 1px solid black;\">e</td><td    style=\"border: 1px solid black;\">f</td><td    style=\"border: 1px solid black;\">g</td><td    style=\"border: 1px solid black;\">h</td></tr>\n",
       "</tbody>\n",
       "</table>"
      ],
      "text/plain": [
       "<IPython.core.display.HTML object>"
      ]
     },
     "metadata": {},
     "output_type": "display_data"
    },
    {
     "data": {
      "text/html": [
       "<table style=\"border: 2px solid black;\">\n",
       "<tbody>\n",
       "<tr><td    style=\"border: 1px solid black;\">1</td><td    style=\"border: 1px solid black;\"> </td><td    style=\"border: 1px solid black;\">♔</td><td    style=\"border: 1px solid black;\"> </td><td    style=\"border: 1px solid black;\"> </td><td    style=\"border: 1px solid black;\"> </td><td    style=\"border: 1px solid black;\"> </td><td    style=\"border: 1px solid black;\"> </td><td    style=\"border: 1px solid black;\"> </td></tr>\n",
       "<tr><td    style=\"border: 1px solid black;\">2</td><td    style=\"border: 1px solid black;\"> </td><td    style=\"border: 1px solid black;\"> </td><td    style=\"border: 1px solid black;\"> </td><td    style=\"border: 1px solid black;\"> </td><td    style=\"border: 1px solid black;\"> </td><td    style=\"border: 1px solid black;\"> </td><td    style=\"border: 1px solid black;\"> </td><td    style=\"border: 1px solid black;\"> </td></tr>\n",
       "<tr><td    style=\"border: 1px solid black;\">3</td><td    style=\"border: 1px solid black;\">♚</td><td    style=\"border: 1px solid black;\"> </td><td    style=\"border: 1px solid black;\"> </td><td    style=\"border: 1px solid black;\"> </td><td    style=\"border: 1px solid black;\"> </td><td    style=\"border: 1px solid black;\"> </td><td    style=\"border: 1px solid black;\"> </td><td    style=\"border: 1px solid black;\"> </td></tr>\n",
       "<tr><td    style=\"border: 1px solid black;\">4</td><td    style=\"border: 1px solid black;\"> </td><td    style=\"border: 1px solid black;\"> </td><td    style=\"border: 1px solid black;\"> </td><td    style=\"border: 1px solid black;\"> </td><td    style=\"border: 1px solid black;\">♖</td><td    style=\"border: 1px solid black;\"> </td><td    style=\"border: 1px solid black;\"> </td><td    style=\"border: 1px solid black;\"> </td></tr>\n",
       "<tr><td    style=\"border: 1px solid black;\">5</td><td    style=\"border: 1px solid black;\"> </td><td    style=\"border: 1px solid black;\"> </td><td    style=\"border: 1px solid black;\"> </td><td    style=\"border: 1px solid black;\"> </td><td    style=\"border: 1px solid black;\"> </td><td    style=\"border: 1px solid black;\"> </td><td    style=\"border: 1px solid black;\"> </td><td    style=\"border: 1px solid black;\"> </td></tr>\n",
       "<tr><td    style=\"border: 1px solid black;\">6</td><td    style=\"border: 1px solid black;\"> </td><td    style=\"border: 1px solid black;\"> </td><td    style=\"border: 1px solid black;\"> </td><td    style=\"border: 1px solid black;\"> </td><td    style=\"border: 1px solid black;\"> </td><td    style=\"border: 1px solid black;\"> </td><td    style=\"border: 1px solid black;\"> </td><td    style=\"border: 1px solid black;\"> </td></tr>\n",
       "<tr><td    style=\"border: 1px solid black;\">7</td><td    style=\"border: 1px solid black;\"> </td><td    style=\"border: 1px solid black;\"> </td><td    style=\"border: 1px solid black;\"> </td><td    style=\"border: 1px solid black;\"> </td><td    style=\"border: 1px solid black;\"> </td><td    style=\"border: 1px solid black;\"> </td><td    style=\"border: 1px solid black;\"> </td><td    style=\"border: 1px solid black;\"> </td></tr>\n",
       "<tr><td    style=\"border: 1px solid black;\">8</td><td    style=\"border: 1px solid black;\"> </td><td    style=\"border: 1px solid black;\"> </td><td    style=\"border: 1px solid black;\"> </td><td    style=\"border: 1px solid black;\"> </td><td    style=\"border: 1px solid black;\"> </td><td    style=\"border: 1px solid black;\"> </td><td    style=\"border: 1px solid black;\"> </td><td    style=\"border: 1px solid black;\"> </td></tr>\n",
       "<tr><td    style=\"border: 1px solid black;\"> </td><td    style=\"border: 1px solid black;\">a</td><td    style=\"border: 1px solid black;\">b</td><td    style=\"border: 1px solid black;\">c</td><td    style=\"border: 1px solid black;\">d</td><td    style=\"border: 1px solid black;\">e</td><td    style=\"border: 1px solid black;\">f</td><td    style=\"border: 1px solid black;\">g</td><td    style=\"border: 1px solid black;\">h</td></tr>\n",
       "</tbody>\n",
       "</table>"
      ],
      "text/plain": [
       "<IPython.core.display.HTML object>"
      ]
     },
     "metadata": {},
     "output_type": "display_data"
    },
    {
     "data": {
      "text/html": [
       "<table style=\"border: 2px solid black;\">\n",
       "<tbody>\n",
       "<tr><td    style=\"border: 1px solid black;\">1</td><td    style=\"border: 1px solid black;\"> </td><td    style=\"border: 1px solid black;\"> </td><td    style=\"border: 1px solid black;\"> </td><td    style=\"border: 1px solid black;\"> </td><td    style=\"border: 1px solid black;\"> </td><td    style=\"border: 1px solid black;\"> </td><td    style=\"border: 1px solid black;\"> </td><td    style=\"border: 1px solid black;\"> </td></tr>\n",
       "<tr><td    style=\"border: 1px solid black;\">2</td><td    style=\"border: 1px solid black;\"> </td><td    style=\"border: 1px solid black;\"> </td><td    style=\"border: 1px solid black;\">♔</td><td    style=\"border: 1px solid black;\"> </td><td    style=\"border: 1px solid black;\"> </td><td    style=\"border: 1px solid black;\"> </td><td    style=\"border: 1px solid black;\"> </td><td    style=\"border: 1px solid black;\"> </td></tr>\n",
       "<tr><td    style=\"border: 1px solid black;\">3</td><td    style=\"border: 1px solid black;\">♚</td><td    style=\"border: 1px solid black;\"> </td><td    style=\"border: 1px solid black;\"> </td><td    style=\"border: 1px solid black;\"> </td><td    style=\"border: 1px solid black;\"> </td><td    style=\"border: 1px solid black;\"> </td><td    style=\"border: 1px solid black;\"> </td><td    style=\"border: 1px solid black;\"> </td></tr>\n",
       "<tr><td    style=\"border: 1px solid black;\">4</td><td    style=\"border: 1px solid black;\"> </td><td    style=\"border: 1px solid black;\"> </td><td    style=\"border: 1px solid black;\"> </td><td    style=\"border: 1px solid black;\"> </td><td    style=\"border: 1px solid black;\">♖</td><td    style=\"border: 1px solid black;\"> </td><td    style=\"border: 1px solid black;\"> </td><td    style=\"border: 1px solid black;\"> </td></tr>\n",
       "<tr><td    style=\"border: 1px solid black;\">5</td><td    style=\"border: 1px solid black;\"> </td><td    style=\"border: 1px solid black;\"> </td><td    style=\"border: 1px solid black;\"> </td><td    style=\"border: 1px solid black;\"> </td><td    style=\"border: 1px solid black;\"> </td><td    style=\"border: 1px solid black;\"> </td><td    style=\"border: 1px solid black;\"> </td><td    style=\"border: 1px solid black;\"> </td></tr>\n",
       "<tr><td    style=\"border: 1px solid black;\">6</td><td    style=\"border: 1px solid black;\"> </td><td    style=\"border: 1px solid black;\"> </td><td    style=\"border: 1px solid black;\"> </td><td    style=\"border: 1px solid black;\"> </td><td    style=\"border: 1px solid black;\"> </td><td    style=\"border: 1px solid black;\"> </td><td    style=\"border: 1px solid black;\"> </td><td    style=\"border: 1px solid black;\"> </td></tr>\n",
       "<tr><td    style=\"border: 1px solid black;\">7</td><td    style=\"border: 1px solid black;\"> </td><td    style=\"border: 1px solid black;\"> </td><td    style=\"border: 1px solid black;\"> </td><td    style=\"border: 1px solid black;\"> </td><td    style=\"border: 1px solid black;\"> </td><td    style=\"border: 1px solid black;\"> </td><td    style=\"border: 1px solid black;\"> </td><td    style=\"border: 1px solid black;\"> </td></tr>\n",
       "<tr><td    style=\"border: 1px solid black;\">8</td><td    style=\"border: 1px solid black;\"> </td><td    style=\"border: 1px solid black;\"> </td><td    style=\"border: 1px solid black;\"> </td><td    style=\"border: 1px solid black;\"> </td><td    style=\"border: 1px solid black;\"> </td><td    style=\"border: 1px solid black;\"> </td><td    style=\"border: 1px solid black;\"> </td><td    style=\"border: 1px solid black;\"> </td></tr>\n",
       "<tr><td    style=\"border: 1px solid black;\"> </td><td    style=\"border: 1px solid black;\">a</td><td    style=\"border: 1px solid black;\">b</td><td    style=\"border: 1px solid black;\">c</td><td    style=\"border: 1px solid black;\">d</td><td    style=\"border: 1px solid black;\">e</td><td    style=\"border: 1px solid black;\">f</td><td    style=\"border: 1px solid black;\">g</td><td    style=\"border: 1px solid black;\">h</td></tr>\n",
       "</tbody>\n",
       "</table>"
      ],
      "text/plain": [
       "<IPython.core.display.HTML object>"
      ]
     },
     "metadata": {},
     "output_type": "display_data"
    },
    {
     "data": {
      "text/html": [
       "<table style=\"border: 2px solid black;\">\n",
       "<tbody>\n",
       "<tr><td    style=\"border: 1px solid black;\">1</td><td    style=\"border: 1px solid black;\"> </td><td    style=\"border: 1px solid black;\"> </td><td    style=\"border: 1px solid black;\"> </td><td    style=\"border: 1px solid black;\"> </td><td    style=\"border: 1px solid black;\"> </td><td    style=\"border: 1px solid black;\"> </td><td    style=\"border: 1px solid black;\"> </td><td    style=\"border: 1px solid black;\"> </td></tr>\n",
       "<tr><td    style=\"border: 1px solid black;\">2</td><td    style=\"border: 1px solid black;\">♚</td><td    style=\"border: 1px solid black;\"> </td><td    style=\"border: 1px solid black;\">♔</td><td    style=\"border: 1px solid black;\"> </td><td    style=\"border: 1px solid black;\"> </td><td    style=\"border: 1px solid black;\"> </td><td    style=\"border: 1px solid black;\"> </td><td    style=\"border: 1px solid black;\"> </td></tr>\n",
       "<tr><td    style=\"border: 1px solid black;\">3</td><td    style=\"border: 1px solid black;\"> </td><td    style=\"border: 1px solid black;\"> </td><td    style=\"border: 1px solid black;\"> </td><td    style=\"border: 1px solid black;\"> </td><td    style=\"border: 1px solid black;\"> </td><td    style=\"border: 1px solid black;\"> </td><td    style=\"border: 1px solid black;\"> </td><td    style=\"border: 1px solid black;\"> </td></tr>\n",
       "<tr><td    style=\"border: 1px solid black;\">4</td><td    style=\"border: 1px solid black;\"> </td><td    style=\"border: 1px solid black;\"> </td><td    style=\"border: 1px solid black;\"> </td><td    style=\"border: 1px solid black;\"> </td><td    style=\"border: 1px solid black;\">♖</td><td    style=\"border: 1px solid black;\"> </td><td    style=\"border: 1px solid black;\"> </td><td    style=\"border: 1px solid black;\"> </td></tr>\n",
       "<tr><td    style=\"border: 1px solid black;\">5</td><td    style=\"border: 1px solid black;\"> </td><td    style=\"border: 1px solid black;\"> </td><td    style=\"border: 1px solid black;\"> </td><td    style=\"border: 1px solid black;\"> </td><td    style=\"border: 1px solid black;\"> </td><td    style=\"border: 1px solid black;\"> </td><td    style=\"border: 1px solid black;\"> </td><td    style=\"border: 1px solid black;\"> </td></tr>\n",
       "<tr><td    style=\"border: 1px solid black;\">6</td><td    style=\"border: 1px solid black;\"> </td><td    style=\"border: 1px solid black;\"> </td><td    style=\"border: 1px solid black;\"> </td><td    style=\"border: 1px solid black;\"> </td><td    style=\"border: 1px solid black;\"> </td><td    style=\"border: 1px solid black;\"> </td><td    style=\"border: 1px solid black;\"> </td><td    style=\"border: 1px solid black;\"> </td></tr>\n",
       "<tr><td    style=\"border: 1px solid black;\">7</td><td    style=\"border: 1px solid black;\"> </td><td    style=\"border: 1px solid black;\"> </td><td    style=\"border: 1px solid black;\"> </td><td    style=\"border: 1px solid black;\"> </td><td    style=\"border: 1px solid black;\"> </td><td    style=\"border: 1px solid black;\"> </td><td    style=\"border: 1px solid black;\"> </td><td    style=\"border: 1px solid black;\"> </td></tr>\n",
       "<tr><td    style=\"border: 1px solid black;\">8</td><td    style=\"border: 1px solid black;\"> </td><td    style=\"border: 1px solid black;\"> </td><td    style=\"border: 1px solid black;\"> </td><td    style=\"border: 1px solid black;\"> </td><td    style=\"border: 1px solid black;\"> </td><td    style=\"border: 1px solid black;\"> </td><td    style=\"border: 1px solid black;\"> </td><td    style=\"border: 1px solid black;\"> </td></tr>\n",
       "<tr><td    style=\"border: 1px solid black;\"> </td><td    style=\"border: 1px solid black;\">a</td><td    style=\"border: 1px solid black;\">b</td><td    style=\"border: 1px solid black;\">c</td><td    style=\"border: 1px solid black;\">d</td><td    style=\"border: 1px solid black;\">e</td><td    style=\"border: 1px solid black;\">f</td><td    style=\"border: 1px solid black;\">g</td><td    style=\"border: 1px solid black;\">h</td></tr>\n",
       "</tbody>\n",
       "</table>"
      ],
      "text/plain": [
       "<IPython.core.display.HTML object>"
      ]
     },
     "metadata": {},
     "output_type": "display_data"
    },
    {
     "data": {
      "text/html": [
       "<table style=\"border: 2px solid black;\">\n",
       "<tbody>\n",
       "<tr><td    style=\"border: 1px solid black;\">1</td><td    style=\"border: 1px solid black;\"> </td><td    style=\"border: 1px solid black;\"> </td><td    style=\"border: 1px solid black;\"> </td><td    style=\"border: 1px solid black;\"> </td><td    style=\"border: 1px solid black;\"> </td><td    style=\"border: 1px solid black;\"> </td><td    style=\"border: 1px solid black;\"> </td><td    style=\"border: 1px solid black;\"> </td></tr>\n",
       "<tr><td    style=\"border: 1px solid black;\">2</td><td    style=\"border: 1px solid black;\">♚</td><td    style=\"border: 1px solid black;\"> </td><td    style=\"border: 1px solid black;\">♔</td><td    style=\"border: 1px solid black;\"> </td><td    style=\"border: 1px solid black;\"> </td><td    style=\"border: 1px solid black;\"> </td><td    style=\"border: 1px solid black;\"> </td><td    style=\"border: 1px solid black;\"> </td></tr>\n",
       "<tr><td    style=\"border: 1px solid black;\">3</td><td    style=\"border: 1px solid black;\"> </td><td    style=\"border: 1px solid black;\"> </td><td    style=\"border: 1px solid black;\"> </td><td    style=\"border: 1px solid black;\"> </td><td    style=\"border: 1px solid black;\"> </td><td    style=\"border: 1px solid black;\"> </td><td    style=\"border: 1px solid black;\"> </td><td    style=\"border: 1px solid black;\"> </td></tr>\n",
       "<tr><td    style=\"border: 1px solid black;\">4</td><td    style=\"border: 1px solid black;\">♖</td><td    style=\"border: 1px solid black;\"> </td><td    style=\"border: 1px solid black;\"> </td><td    style=\"border: 1px solid black;\"> </td><td    style=\"border: 1px solid black;\"> </td><td    style=\"border: 1px solid black;\"> </td><td    style=\"border: 1px solid black;\"> </td><td    style=\"border: 1px solid black;\"> </td></tr>\n",
       "<tr><td    style=\"border: 1px solid black;\">5</td><td    style=\"border: 1px solid black;\"> </td><td    style=\"border: 1px solid black;\"> </td><td    style=\"border: 1px solid black;\"> </td><td    style=\"border: 1px solid black;\"> </td><td    style=\"border: 1px solid black;\"> </td><td    style=\"border: 1px solid black;\"> </td><td    style=\"border: 1px solid black;\"> </td><td    style=\"border: 1px solid black;\"> </td></tr>\n",
       "<tr><td    style=\"border: 1px solid black;\">6</td><td    style=\"border: 1px solid black;\"> </td><td    style=\"border: 1px solid black;\"> </td><td    style=\"border: 1px solid black;\"> </td><td    style=\"border: 1px solid black;\"> </td><td    style=\"border: 1px solid black;\"> </td><td    style=\"border: 1px solid black;\"> </td><td    style=\"border: 1px solid black;\"> </td><td    style=\"border: 1px solid black;\"> </td></tr>\n",
       "<tr><td    style=\"border: 1px solid black;\">7</td><td    style=\"border: 1px solid black;\"> </td><td    style=\"border: 1px solid black;\"> </td><td    style=\"border: 1px solid black;\"> </td><td    style=\"border: 1px solid black;\"> </td><td    style=\"border: 1px solid black;\"> </td><td    style=\"border: 1px solid black;\"> </td><td    style=\"border: 1px solid black;\"> </td><td    style=\"border: 1px solid black;\"> </td></tr>\n",
       "<tr><td    style=\"border: 1px solid black;\">8</td><td    style=\"border: 1px solid black;\"> </td><td    style=\"border: 1px solid black;\"> </td><td    style=\"border: 1px solid black;\"> </td><td    style=\"border: 1px solid black;\"> </td><td    style=\"border: 1px solid black;\"> </td><td    style=\"border: 1px solid black;\"> </td><td    style=\"border: 1px solid black;\"> </td><td    style=\"border: 1px solid black;\"> </td></tr>\n",
       "<tr><td    style=\"border: 1px solid black;\"> </td><td    style=\"border: 1px solid black;\">a</td><td    style=\"border: 1px solid black;\">b</td><td    style=\"border: 1px solid black;\">c</td><td    style=\"border: 1px solid black;\">d</td><td    style=\"border: 1px solid black;\">e</td><td    style=\"border: 1px solid black;\">f</td><td    style=\"border: 1px solid black;\">g</td><td    style=\"border: 1px solid black;\">h</td></tr>\n",
       "</tbody>\n",
       "</table>"
      ],
      "text/plain": [
       "<IPython.core.display.HTML object>"
      ]
     },
     "metadata": {},
     "output_type": "display_data"
    }
   ],
   "source": [
    "a = show_path(res[1])\n",
    "for x in a:\n",
    "    print_board(stateToCharState(x))"
   ]
  },
  {
   "cell_type": "code",
   "execution_count": null,
   "metadata": {},
   "outputs": [],
   "source": [
    "\n"
   ]
  }
 ],
 "metadata": {
  "kernelspec": {
   "display_name": "Python 3",
   "language": "python",
   "name": "python3"
  },
  "language_info": {
   "codemirror_mode": {
    "name": "ipython",
    "version": 3
   },
   "file_extension": ".py",
   "mimetype": "text/x-python",
   "name": "python",
   "nbconvert_exporter": "python",
   "pygments_lexer": "ipython3",
   "version": "3.5.2"
  }
 },
 "nbformat": 4,
 "nbformat_minor": 2
}
