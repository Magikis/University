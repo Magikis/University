{
 "cells": [
  {
   "cell_type": "code",
   "execution_count": 1,
   "metadata": {},
   "outputs": [],
   "source": [
    "% matplotlib inline\n",
    "%load_ext autoreload\n",
    "%autoreload 2\n",
    "import numpy as np\n",
    "import matplotlib.pyplot as plt\n",
    "import pandas as pd\n",
    "\n",
    "from sklearn import tree\n",
    "import sklearn\n",
    "import algorithms as my_algs\n",
    "\n",
    "from sklearn.ensemble import (RandomForestClassifier, ExtraTreesClassifier)"
   ]
  },
  {
   "cell_type": "code",
   "execution_count": 14,
   "metadata": {},
   "outputs": [
    {
     "name": "stdout",
     "output_type": "stream",
     "text": [
      "Int64Index([0], dtype='int64')\n"
     ]
    }
   ],
   "source": [
    "features = train_Y = pd.read_csv('data/UCI_HAR_Dataset/features.txt', delim_whitespace=True, header=None)\n",
    "\n",
    "train_X = pd.read_csv('data/UCI_HAR_Dataset/train/X_train.txt', delim_whitespace=True, names=features[1].ravel())\n",
    "train_Y = pd.read_csv('data/UCI_HAR_Dataset/train/y_train.txt', delim_whitespace=True, header=None)\n",
    "train_X, train_Y = sklearn.utils.shuffle(train_X, train_Y)\n",
    "print(train_Y.columns)\n",
    "test_X = pd.read_csv('data/UCI_HAR_Dataset/test/X_test.txt', delim_whitespace=True, names=features[1].ravel())\n",
    "test_Y = pd.read_csv('data/UCI_HAR_Dataset/test/y_test.txt', delim_whitespace=True, header=None)\n",
    "\n",
    "train_Y = train_Y.as_matrix().ravel()\n",
    "test_Y = test_Y.as_matrix().ravel()"
   ]
  },
  {
   "cell_type": "code",
   "execution_count": 10,
   "metadata": {},
   "outputs": [
    {
     "data": {
      "text/plain": [
       "array([5, 5, 5, ..., 2, 2, 2])"
      ]
     },
     "execution_count": 10,
     "metadata": {},
     "output_type": "execute_result"
    }
   ],
   "source": []
  },
  {
   "cell_type": "code",
   "execution_count": 3,
   "metadata": {
    "collapsed": true
   },
   "outputs": [],
   "source": [
    "from sklearn import metrics\n",
    "def test_model(model, model_name):\n",
    "    model.fit(train_X, train_Y)\n",
    "    train_score = model.score(train_X, train_Y)\n",
    "    test_score = model.score(test_X, test_Y)\n",
    "    print(metrics.confusion_matrix(model.predict(test_X), test_Y))\n",
    "    print(f'Model: {model_name}')\n",
    "    print('-----------------------------')\n",
    "    print(f'train score: {train_score:.3f}')\n",
    "    print(f'test score: {test_score:.3f}')\n",
    "    print('\\n')"
   ]
  },
  {
   "cell_type": "code",
   "execution_count": 4,
   "metadata": {},
   "outputs": [
    {
     "name": "stdout",
     "output_type": "stream",
     "text": [
      "[[487  37  48   0   0   0]\n",
      " [  0 428  41   4   0   0]\n",
      " [  9   6 331   0   0   0]\n",
      " [  0   0   0 389  35   2]\n",
      " [  0   0   0  98 497   1]\n",
      " [  0   0   0   0   0 534]]\n",
      "Model: Knn\n",
      "-----------------------------\n",
      "train score: 0.974\n",
      "test score: 0.905\n",
      "\n",
      "\n"
     ]
    }
   ],
   "source": [
    "test_model(sklearn.neighbors.KNeighborsClassifier(n_neighbors=11), 'Knn')"
   ]
  },
  {
   "cell_type": "code",
   "execution_count": 5,
   "metadata": {},
   "outputs": [
    {
     "name": "stdout",
     "output_type": "stream",
     "text": [
      "[[435  75  26   0   0   0]\n",
      " [ 43 355  48   0   0   0]\n",
      " [ 18  41 346   0   0   0]\n",
      " [  0   0   0 375  73   0]\n",
      " [  0   0   0 116 459   0]\n",
      " [  0   0   0   0   0 537]]\n",
      "Model: DecisionTreeClassifier\n",
      "-----------------------------\n",
      "train score: 1.000\n",
      "test score: 0.851\n",
      "\n",
      "\n"
     ]
    }
   ],
   "source": [
    "test_model(tree.DecisionTreeClassifier(), 'DecisionTreeClassifier')"
   ]
  },
  {
   "cell_type": "code",
   "execution_count": 6,
   "metadata": {},
   "outputs": [
    {
     "name": "stdout",
     "output_type": "stream",
     "text": [
      "[[470  75  11   0   0   0]\n",
      " [  9 365  57   0   0   0]\n",
      " [ 17  31 352   0   0   0]\n",
      " [  0   0   0 374  59   0]\n",
      " [  0   0   0 117 473   0]\n",
      " [  0   0   0   0   0 537]]\n",
      "Model: DecisionTreeClassifier [('max_depth', 8), ('min_samples_split', 4), ('min_samples_leaf', 2)]\n",
      "-----------------------------\n",
      "train score: 0.973\n",
      "test score: 0.872\n",
      "\n",
      "\n"
     ]
    }
   ],
   "source": [
    "kwargs = {\n",
    "    'max_depth': 8,\n",
    "    'min_samples_split': 4,\n",
    "    'min_samples_leaf': 2\n",
    "}\n",
    "test_model(tree.DecisionTreeClassifier(**kwargs), f'DecisionTreeClassifier {list(kwargs.items())}')"
   ]
  },
  {
   "cell_type": "code",
   "execution_count": 7,
   "metadata": {},
   "outputs": [
    {
     "name": "stdout",
     "output_type": "stream",
     "text": [
      "[[457  71  23   0   0   0]\n",
      " [ 15 354  47   0   0   0]\n",
      " [ 24  46 350   0   0   0]\n",
      " [  0   0   0 381  84   0]\n",
      " [  0   0   0 110 448   0]\n",
      " [  0   0   0   0   0 537]]\n",
      "Model: DecisionTreeClassifier: entropy\n",
      "-----------------------------\n",
      "train score: 1.000\n",
      "test score: 0.857\n",
      "\n",
      "\n"
     ]
    }
   ],
   "source": [
    "test_model(tree.DecisionTreeClassifier(criterion='entropy'), 'DecisionTreeClassifier: entropy')"
   ]
  },
  {
   "cell_type": "code",
   "execution_count": 8,
   "metadata": {},
   "outputs": [
    {
     "name": "stdout",
     "output_type": "stream",
     "text": [
      "[[478  37  21   0   0   0]\n",
      " [ 12 425  45   0   0   0]\n",
      " [  6   9 354   0   0   0]\n",
      " [  0   0   0 439  44   0]\n",
      " [  0   0   0  52 488   0]\n",
      " [  0   0   0   0   0 537]]\n",
      "Model: RandomForestClassifier\n",
      "-----------------------------\n",
      "train score: 1.000\n",
      "test score: 0.923\n",
      "\n",
      "\n"
     ]
    }
   ],
   "source": [
    "test_model(RandomForestClassifier(n_estimators=200), 'RandomForestClassifier')"
   ]
  },
  {
   "cell_type": "code",
   "execution_count": 15,
   "metadata": {},
   "outputs": [
    {
     "name": "stdout",
     "output_type": "stream",
     "text": [
      "[[483  20  28   0   0   0]\n",
      " [  4 445  45   1   0   0]\n",
      " [  9   6 347   0   0   0]\n",
      " [  0   0   0 427   7   0]\n",
      " [  0   0   0  62 525   0]\n",
      " [  0   0   0   1   0 537]]\n",
      "Model: RandomForestClassifier\n",
      "-----------------------------\n",
      "train score: 0.998\n",
      "test score: 0.938\n",
      "\n",
      "\n"
     ]
    }
   ],
   "source": [
    "kwargs = {\n",
    "    'n_estimators':400,\n",
    "    'max_depth': 15,\n",
    "    'min_samples_split': 10,\n",
    "    'min_samples_leaf': 5\n",
    "}\n",
    "test_model(ExtraTreesClassifier(**kwargs), 'RandomForestClassifier')"
   ]
  },
  {
   "cell_type": "code",
   "execution_count": null,
   "metadata": {
    "collapsed": true
   },
   "outputs": [],
   "source": []
  }
 ],
 "metadata": {
  "kernelspec": {
   "display_name": "Python 3",
   "language": "python",
   "name": "python3"
  },
  "language_info": {
   "codemirror_mode": {
    "name": "ipython",
    "version": 3
   },
   "file_extension": ".py",
   "mimetype": "text/x-python",
   "name": "python",
   "nbconvert_exporter": "python",
   "pygments_lexer": "ipython3",
   "version": "3.6.3"
  }
 },
 "nbformat": 4,
 "nbformat_minor": 2
}
